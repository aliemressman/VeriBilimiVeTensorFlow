{
 "cells": [
  {
   "cell_type": "markdown",
   "id": "1be4ccf2-961e-4380-b0a6-90f1e25e04c0",
   "metadata": {},
   "source": [
    "## slicing(kesmek)"
   ]
  },
  {
   "cell_type": "code",
   "execution_count": 17,
   "id": "3237d756-b1ad-49e1-bd6f-8ccfb0310789",
   "metadata": {},
   "outputs": [],
   "source": [
    "gelenVeri = \"EmreninYasi55\""
   ]
  },
  {
   "cell_type": "code",
   "execution_count": 23,
   "id": "695ccd79-a676-47f5-9211-4f026d11a03a",
   "metadata": {},
   "outputs": [
    {
     "data": {
      "text/plain": [
       "'re'"
      ]
     },
     "execution_count": 23,
     "metadata": {},
     "output_type": "execute_result"
    }
   ],
   "source": [
    "gelenVeri[2:4]"
   ]
  },
  {
   "cell_type": "code",
   "execution_count": 24,
   "id": "c507e4a2-0edb-405e-be14-c1f9a43e462f",
   "metadata": {},
   "outputs": [],
   "source": [
    "#Step Size\n"
   ]
  },
  {
   "cell_type": "code",
   "execution_count": 30,
   "id": "d596833b-c403-46eb-842b-90551da69a20",
   "metadata": {},
   "outputs": [
    {
     "data": {
      "text/plain": [
       "'meiYs5'"
      ]
     },
     "execution_count": 30,
     "metadata": {},
     "output_type": "execute_result"
    }
   ],
   "source": [
    "gelenVeri[1:12:2]"
   ]
  },
  {
   "cell_type": "code",
   "execution_count": 31,
   "id": "8ed96894-8ab0-4abb-a404-89167e8c328b",
   "metadata": {},
   "outputs": [
    {
     "data": {
      "text/plain": [
       "'55isaYninermE'"
      ]
     },
     "execution_count": 31,
     "metadata": {},
     "output_type": "execute_result"
    }
   ],
   "source": [
    "gelenVeri[::-1]"
   ]
  },
  {
   "cell_type": "markdown",
   "id": "843aaa73-b5cc-45d1-90cb-a30771ddda9d",
   "metadata": {},
   "source": [
    "## String Metodlar"
   ]
  },
  {
   "cell_type": "code",
   "execution_count": 32,
   "id": "487e734a-b2a4-4c6f-a611-a17887e0d1e4",
   "metadata": {},
   "outputs": [],
   "source": [
    "benimIsmim = \"Ali\""
   ]
  },
  {
   "cell_type": "code",
   "execution_count": 33,
   "id": "5a5f5b10-99ff-4835-b406-60ca8002a0a9",
   "metadata": {},
   "outputs": [
    {
     "data": {
      "text/plain": [
       "'Ali'"
      ]
     },
     "execution_count": 33,
     "metadata": {},
     "output_type": "execute_result"
    }
   ],
   "source": [
    "benimIsmim"
   ]
  },
  {
   "cell_type": "code",
   "execution_count": 40,
   "id": "470251e2-1977-48de-b9f4-419d9a9cc476",
   "metadata": {},
   "outputs": [
    {
     "data": {
      "text/plain": [
       "['Ali']"
      ]
     },
     "execution_count": 40,
     "metadata": {},
     "output_type": "execute_result"
    }
   ],
   "source": [
    "benimIsmim.split()\n"
   ]
  },
  {
   "cell_type": "code",
   "execution_count": 42,
   "id": "a4be3c8a-7008-4ed8-bea9-d56e87d0b92c",
   "metadata": {},
   "outputs": [],
   "source": [
    "benimDigerIsmim = \"Emre\"\n"
   ]
  },
  {
   "cell_type": "code",
   "execution_count": 43,
   "id": "0d696465-1713-4259-ae76-900f4628942f",
   "metadata": {},
   "outputs": [
    {
     "data": {
      "text/plain": [
       "'EMRE'"
      ]
     },
     "execution_count": 43,
     "metadata": {},
     "output_type": "execute_result"
    }
   ],
   "source": [
    "benimDigerIsmim.upper()"
   ]
  },
  {
   "cell_type": "code",
   "execution_count": 47,
   "id": "1b7a7a3d-4dd5-4666-8dd5-90c62c58fab6",
   "metadata": {},
   "outputs": [],
   "source": [
    "tam = benimIsmim +\" \"+ benimDigerIsmim"
   ]
  },
  {
   "cell_type": "code",
   "execution_count": 48,
   "id": "db022bab-1ba4-4bac-affe-94b137bc12d0",
   "metadata": {},
   "outputs": [
    {
     "data": {
      "text/plain": [
       "'AliEmre'"
      ]
     },
     "execution_count": 48,
     "metadata": {},
     "output_type": "execute_result"
    }
   ],
   "source": [
    "tam\n"
   ]
  },
  {
   "cell_type": "code",
   "execution_count": 49,
   "id": "cff878f0-84b7-47e7-9ac0-89a247e2739d",
   "metadata": {},
   "outputs": [
    {
     "data": {
      "text/plain": [
       "['AliEmre']"
      ]
     },
     "execution_count": 49,
     "metadata": {},
     "output_type": "execute_result"
    }
   ],
   "source": [
    "tam.split()"
   ]
  },
  {
   "cell_type": "code",
   "execution_count": 51,
   "id": "eb411cc2-32d9-46ac-8285-415fd0b5a40c",
   "metadata": {},
   "outputs": [
    {
     "data": {
      "text/plain": [
       "['AliEmre']"
      ]
     },
     "execution_count": 51,
     "metadata": {},
     "output_type": "execute_result"
    }
   ],
   "source": [
    "tam.split()\n"
   ]
  },
  {
   "cell_type": "code",
   "execution_count": null,
   "id": "fd355104-1751-4388-80da-93bdbcb1c4e6",
   "metadata": {},
   "outputs": [],
   "source": []
  }
 ],
 "metadata": {
  "kernelspec": {
   "display_name": "Python 3 (ipykernel)",
   "language": "python",
   "name": "python3"
  },
  "language_info": {
   "codemirror_mode": {
    "name": "ipython",
    "version": 3
   },
   "file_extension": ".py",
   "mimetype": "text/x-python",
   "name": "python",
   "nbconvert_exporter": "python",
   "pygments_lexer": "ipython3",
   "version": "3.12.7"
  }
 },
 "nbformat": 4,
 "nbformat_minor": 5
}
