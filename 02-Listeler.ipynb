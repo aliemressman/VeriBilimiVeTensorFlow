{
 "cells": [
  {
   "cell_type": "code",
   "execution_count": 4,
   "id": "dc27389e-df13-486c-bce6-0159d04b81ef",
   "metadata": {},
   "outputs": [],
   "source": [
    "benimListem = [15,484,45]"
   ]
  },
  {
   "cell_type": "code",
   "execution_count": 3,
   "id": "b67a98e1-26cf-4ef5-b6cd-d74f7b34d1a6",
   "metadata": {},
   "outputs": [
    {
     "data": {
      "text/plain": [
       "[15, 484, 45]"
      ]
     },
     "execution_count": 3,
     "metadata": {},
     "output_type": "execute_result"
    }
   ],
   "source": [
    "benimListem"
   ]
  },
  {
   "cell_type": "code",
   "execution_count": 5,
   "id": "1fbb9f94-4fc2-44ab-9539-6c23a6149859",
   "metadata": {},
   "outputs": [
    {
     "data": {
      "text/plain": [
       "45"
      ]
     },
     "execution_count": 5,
     "metadata": {},
     "output_type": "execute_result"
    }
   ],
   "source": [
    "benimListem.pop()"
   ]
  },
  {
   "cell_type": "code",
   "execution_count": 6,
   "id": "8e13adc5-dba9-46db-857f-a61e1fcaadc8",
   "metadata": {},
   "outputs": [
    {
     "data": {
      "text/plain": [
       "[15, 484]"
      ]
     },
     "execution_count": 6,
     "metadata": {},
     "output_type": "execute_result"
    }
   ],
   "source": [
    "benimListem"
   ]
  },
  {
   "cell_type": "code",
   "execution_count": 9,
   "id": "d7b599fa-182e-4e22-83d0-bca4371291d3",
   "metadata": {},
   "outputs": [],
   "source": [
    "benimListem.remove(15)"
   ]
  },
  {
   "cell_type": "code",
   "execution_count": 10,
   "id": "dc640bd4-168a-437e-ad34-5dc94d765984",
   "metadata": {},
   "outputs": [
    {
     "data": {
      "text/plain": [
       "[484]"
      ]
     },
     "execution_count": 10,
     "metadata": {},
     "output_type": "execute_result"
    }
   ],
   "source": [
    "benimListem"
   ]
  },
  {
   "cell_type": "code",
   "execution_count": 11,
   "id": "5fb06322-f5ee-4afe-a37e-99f5b923eca4",
   "metadata": {},
   "outputs": [
    {
     "data": {
      "text/plain": [
       "1"
      ]
     },
     "execution_count": 11,
     "metadata": {},
     "output_type": "execute_result"
    }
   ],
   "source": [
    "benimListem.count(484)"
   ]
  },
  {
   "cell_type": "code",
   "execution_count": 13,
   "id": "75d12f3c-d3c3-4f27-b6c8-345e743d772c",
   "metadata": {},
   "outputs": [],
   "source": [
    "benimListem.append(58)"
   ]
  },
  {
   "cell_type": "code",
   "execution_count": 14,
   "id": "42ad5d1a-0197-49df-8cd2-ed96a68b12f1",
   "metadata": {},
   "outputs": [],
   "source": [
    "benimListem.append(586)"
   ]
  },
  {
   "cell_type": "code",
   "execution_count": 15,
   "id": "151356d2-dfe6-46c7-9e56-8e6a17fa750c",
   "metadata": {},
   "outputs": [
    {
     "data": {
      "text/plain": [
       "[484, 58, 586]"
      ]
     },
     "execution_count": 15,
     "metadata": {},
     "output_type": "execute_result"
    }
   ],
   "source": [
    "benimListem"
   ]
  },
  {
   "cell_type": "code",
   "execution_count": 16,
   "id": "ce3576a4-b624-4e82-a556-ab6ff0d99a6e",
   "metadata": {},
   "outputs": [],
   "source": [
    "benimString = [\"wooo\",\"ğgfdgf\",\"blöö\"]"
   ]
  },
  {
   "cell_type": "code",
   "execution_count": 17,
   "id": "7d6498ef-e2ac-4854-a551-352839ae270f",
   "metadata": {},
   "outputs": [
    {
     "data": {
      "text/plain": [
       "['wooo', 'ğgfdgf', 'blöö']"
      ]
     },
     "execution_count": 17,
     "metadata": {},
     "output_type": "execute_result"
    }
   ],
   "source": [
    "benimString"
   ]
  },
  {
   "cell_type": "markdown",
   "id": "2638b378-149c-4cd2-8e9e-43b4ef689338",
   "metadata": {},
   "source": [
    "## NESTED LİST"
   ]
  },
  {
   "cell_type": "code",
   "execution_count": 18,
   "id": "fecc2433-6d08-4b33-9163-688138c68ff6",
   "metadata": {},
   "outputs": [],
   "source": [
    "nestedList = [\"Ali\",55,\"Ne\",4,[5,\"j\",5]]"
   ]
  },
  {
   "cell_type": "code",
   "execution_count": 19,
   "id": "bce872a1-b2e0-437a-ac15-d8b0da4a4235",
   "metadata": {},
   "outputs": [
    {
     "data": {
      "text/plain": [
       "['Ali', 55, 'Ne', 4, [5, 'j', 5]]"
      ]
     },
     "execution_count": 19,
     "metadata": {},
     "output_type": "execute_result"
    }
   ],
   "source": [
    "nestedList"
   ]
  },
  {
   "cell_type": "code",
   "execution_count": 20,
   "id": "4c193333-e1a6-4e83-bf1c-fede1ac42ca8",
   "metadata": {},
   "outputs": [],
   "source": [
    "listSonuc = nestedList[4][1]"
   ]
  },
  {
   "cell_type": "code",
   "execution_count": 21,
   "id": "1ad42e2a-b658-486f-8567-c3db0c3dfe75",
   "metadata": {},
   "outputs": [
    {
     "data": {
      "text/plain": [
       "'j'"
      ]
     },
     "execution_count": 21,
     "metadata": {},
     "output_type": "execute_result"
    }
   ],
   "source": [
    "listSonuc"
   ]
  },
  {
   "cell_type": "code",
   "execution_count": null,
   "id": "f6b2bc4c-03cc-4e3a-bfea-b5c8433f8712",
   "metadata": {},
   "outputs": [],
   "source": []
  }
 ],
 "metadata": {
  "kernelspec": {
   "display_name": "Python 3 (ipykernel)",
   "language": "python",
   "name": "python3"
  },
  "language_info": {
   "codemirror_mode": {
    "name": "ipython",
    "version": 3
   },
   "file_extension": ".py",
   "mimetype": "text/x-python",
   "name": "python",
   "nbconvert_exporter": "python",
   "pygments_lexer": "ipython3",
   "version": "3.12.7"
  }
 },
 "nbformat": 4,
 "nbformat_minor": 5
}
