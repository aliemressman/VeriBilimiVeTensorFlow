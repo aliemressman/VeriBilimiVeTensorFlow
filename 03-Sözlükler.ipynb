{
 "cells": [
  {
   "cell_type": "markdown",
   "id": "5ccc6a82-f477-44c1-9ca0-061fa820a2c8",
   "metadata": {},
   "source": [
    "## Sözlükler Key -Value"
   ]
  },
  {
   "cell_type": "code",
   "execution_count": 1,
   "id": "98f1353b-d4d7-413e-aaa9-6b416be78c39",
   "metadata": {},
   "outputs": [],
   "source": [
    "benimSozluk = {\"anahtarkelime\" : \"deger\"}"
   ]
  },
  {
   "cell_type": "code",
   "execution_count": 2,
   "id": "d1a4fabb-87db-4c37-a0c2-7ea6f7a9f4c5",
   "metadata": {},
   "outputs": [
    {
     "data": {
      "text/plain": [
       "dict"
      ]
     },
     "execution_count": 2,
     "metadata": {},
     "output_type": "execute_result"
    }
   ],
   "source": [
    "type(benimSozluk)"
   ]
  },
  {
   "cell_type": "code",
   "execution_count": 3,
   "id": "a79ae393-dfe6-47fd-9afd-3b96e202a437",
   "metadata": {},
   "outputs": [
    {
     "data": {
      "text/plain": [
       "{'anahtarkelime': 'deger'}"
      ]
     },
     "execution_count": 3,
     "metadata": {},
     "output_type": "execute_result"
    }
   ],
   "source": [
    "benimSozluk"
   ]
  },
  {
   "cell_type": "code",
   "execution_count": 4,
   "id": "c2961b31-844c-451a-8b62-8cdfcf06c88f",
   "metadata": {},
   "outputs": [],
   "source": [
    "benimYemekKaloriSozlugum = {\"muz\": 33, \"Nane\" : 455, \"Elma\" :6666}"
   ]
  },
  {
   "cell_type": "code",
   "execution_count": 5,
   "id": "5439ce0e-3702-421b-8029-7d99bec3defe",
   "metadata": {},
   "outputs": [
    {
     "data": {
      "text/plain": [
       "{'muz': 33, 'Nane': 455, 'Elma': 6666}"
      ]
     },
     "execution_count": 5,
     "metadata": {},
     "output_type": "execute_result"
    }
   ],
   "source": [
    "benimYemekKaloriSozlugum"
   ]
  },
  {
   "cell_type": "code",
   "execution_count": 6,
   "id": "2a08bc37-ba4d-46f5-8099-cdf0162fbcea",
   "metadata": {},
   "outputs": [
    {
     "data": {
      "text/plain": [
       "33"
      ]
     },
     "execution_count": 6,
     "metadata": {},
     "output_type": "execute_result"
    }
   ],
   "source": [
    "benimYemekKaloriSozlugum[\"muz\"]"
   ]
  },
  {
   "cell_type": "code",
   "execution_count": 7,
   "id": "d516a9ee-1b90-493f-a82f-41c3c3988541",
   "metadata": {},
   "outputs": [],
   "source": [
    "benimYemekKaloriSozlugum[\"nane\"] = 55"
   ]
  },
  {
   "cell_type": "code",
   "execution_count": 8,
   "id": "e8403531-0221-486d-b5ce-b5f9847d155e",
   "metadata": {},
   "outputs": [
    {
     "data": {
      "text/plain": [
       "55"
      ]
     },
     "execution_count": 8,
     "metadata": {},
     "output_type": "execute_result"
    }
   ],
   "source": [
    "benimYemekKaloriSozlugum[\"nane\"]"
   ]
  },
  {
   "cell_type": "code",
   "execution_count": 9,
   "id": "79e4d9ad-ddec-4cc4-8e11-905c51031490",
   "metadata": {},
   "outputs": [],
   "source": [
    "yeniDictionary = {\"anahtar1\": 55, \"anahtar2\": [22,965,15,959,\"emre\"],\"anahtar3\": {\"anahtar4 \": 56}}"
   ]
  },
  {
   "cell_type": "code",
   "execution_count": 10,
   "id": "054b2bef-863d-4756-b6c5-8524b2b7d837",
   "metadata": {},
   "outputs": [
    {
     "data": {
      "text/plain": [
       "dict_keys(['anahtar1', 'anahtar2', 'anahtar3'])"
      ]
     },
     "execution_count": 10,
     "metadata": {},
     "output_type": "execute_result"
    }
   ],
   "source": [
    "yeniDictionary.keys()"
   ]
  },
  {
   "cell_type": "code",
   "execution_count": 11,
   "id": "03d0e20f-e3bc-4ab6-8347-07df0d1a02da",
   "metadata": {},
   "outputs": [
    {
     "data": {
      "text/plain": [
       "dict_values([55, [22, 965, 15, 959, 'emre'], {'anahtar4 ': 56}])"
      ]
     },
     "execution_count": 11,
     "metadata": {},
     "output_type": "execute_result"
    }
   ],
   "source": [
    "yeniDictionary.values()"
   ]
  },
  {
   "cell_type": "code",
   "execution_count": 12,
   "id": "a42d09cf-6bb5-4523-b493-044adbe21643",
   "metadata": {},
   "outputs": [
    {
     "data": {
      "text/plain": [
       "'emre'"
      ]
     },
     "execution_count": 12,
     "metadata": {},
     "output_type": "execute_result"
    }
   ],
   "source": [
    "yeniDictionary[\"anahtar2\"][4]"
   ]
  },
  {
   "cell_type": "code",
   "execution_count": 13,
   "id": "3840afe0-5584-46e5-8ca2-36fc442788da",
   "metadata": {},
   "outputs": [
    {
     "ename": "KeyError",
     "evalue": "'anahtar4'",
     "output_type": "error",
     "traceback": [
      "\u001b[1;31m---------------------------------------------------------------------------\u001b[0m",
      "\u001b[1;31mKeyError\u001b[0m                                  Traceback (most recent call last)",
      "Cell \u001b[1;32mIn[13], line 1\u001b[0m\n\u001b[1;32m----> 1\u001b[0m yeniDictionary[\u001b[38;5;124m\"\u001b[39m\u001b[38;5;124manahtar3\u001b[39m\u001b[38;5;124m\"\u001b[39m][\u001b[38;5;124m\"\u001b[39m\u001b[38;5;124manahtar4\u001b[39m\u001b[38;5;124m\"\u001b[39m]\n",
      "\u001b[1;31mKeyError\u001b[0m: 'anahtar4'"
     ]
    }
   ],
   "source": [
    "yeniDictionary[\"anahtar3\"][\"anahtar4\"]"
   ]
  },
  {
   "cell_type": "code",
   "execution_count": 14,
   "id": "9b8b6f22-44de-46f7-aa37-b1aedbddd498",
   "metadata": {},
   "outputs": [
    {
     "ename": "KeyError",
     "evalue": "1",
     "output_type": "error",
     "traceback": [
      "\u001b[1;31m---------------------------------------------------------------------------\u001b[0m",
      "\u001b[1;31mKeyError\u001b[0m                                  Traceback (most recent call last)",
      "Cell \u001b[1;32mIn[14], line 1\u001b[0m\n\u001b[1;32m----> 1\u001b[0m yeniDictionary[\u001b[38;5;124m\"\u001b[39m\u001b[38;5;124manahtar3\u001b[39m\u001b[38;5;124m\"\u001b[39m][\u001b[38;5;241m1\u001b[39m]\n",
      "\u001b[1;31mKeyError\u001b[0m: 1"
     ]
    }
   ],
   "source": [
    "yeniDictionary[\"anahtar3\"][1]"
   ]
  },
  {
   "cell_type": "code",
   "execution_count": 15,
   "id": "b7becc1f-4634-4f8f-8f45-7700bc3b6309",
   "metadata": {},
   "outputs": [
    {
     "ename": "KeyError",
     "evalue": "'anahtar4'",
     "output_type": "error",
     "traceback": [
      "\u001b[1;31m---------------------------------------------------------------------------\u001b[0m",
      "\u001b[1;31mKeyError\u001b[0m                                  Traceback (most recent call last)",
      "Cell \u001b[1;32mIn[15], line 1\u001b[0m\n\u001b[1;32m----> 1\u001b[0m yeniDictionary[\u001b[38;5;124m\"\u001b[39m\u001b[38;5;124manahtar3\u001b[39m\u001b[38;5;124m\"\u001b[39m][\u001b[38;5;124m\"\u001b[39m\u001b[38;5;124manahtar4\u001b[39m\u001b[38;5;124m\"\u001b[39m]\n",
      "\u001b[1;31mKeyError\u001b[0m: 'anahtar4'"
     ]
    }
   ],
   "source": [
    "yeniDictionary[\"anahtar3\"][\"anahtar4\"]"
   ]
  },
  {
   "cell_type": "code",
   "execution_count": null,
   "id": "cc678956-6200-4b19-b3af-a067fd2aa555",
   "metadata": {},
   "outputs": [],
   "source": []
  }
 ],
 "metadata": {
  "kernelspec": {
   "display_name": "Python 3 (ipykernel)",
   "language": "python",
   "name": "python3"
  },
  "language_info": {
   "codemirror_mode": {
    "name": "ipython",
    "version": 3
   },
   "file_extension": ".py",
   "mimetype": "text/x-python",
   "name": "python",
   "nbconvert_exporter": "python",
   "pygments_lexer": "ipython3",
   "version": "3.12.7"
  }
 },
 "nbformat": 4,
 "nbformat_minor": 5
}
