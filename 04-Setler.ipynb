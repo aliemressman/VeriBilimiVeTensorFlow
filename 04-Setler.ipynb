{
 "cells": [
  {
   "cell_type": "markdown",
   "id": "2c1d3839-4b42-4683-a1c6-079e32715b02",
   "metadata": {},
   "source": [
    "## setlerde tekrarlanan öğe bulunmaz"
   ]
  },
  {
   "cell_type": "code",
   "execution_count": 1,
   "id": "deb04965-7d81-4278-873d-9734f3beaf1f",
   "metadata": {},
   "outputs": [],
   "source": [
    "liste = [5,5,56,98,98]"
   ]
  },
  {
   "cell_type": "code",
   "execution_count": 2,
   "id": "e570fa30-6640-4291-8c38-8b1db7136a7c",
   "metadata": {},
   "outputs": [
    {
     "data": {
      "text/plain": [
       "[5, 5, 56, 98, 98]"
      ]
     },
     "execution_count": 2,
     "metadata": {},
     "output_type": "execute_result"
    }
   ],
   "source": [
    "liste"
   ]
  },
  {
   "cell_type": "code",
   "execution_count": 3,
   "id": "74f8bd6f-c90b-4254-ab21-25ff8fb1561c",
   "metadata": {},
   "outputs": [],
   "source": [
    "benimListem = set(liste)"
   ]
  },
  {
   "cell_type": "code",
   "execution_count": 4,
   "id": "18a662fb-567e-4bd4-b232-a5ada2b6d11f",
   "metadata": {},
   "outputs": [
    {
     "data": {
      "text/plain": [
       "set"
      ]
     },
     "execution_count": 4,
     "metadata": {},
     "output_type": "execute_result"
    }
   ],
   "source": [
    "type(benimListem)"
   ]
  },
  {
   "cell_type": "code",
   "execution_count": 5,
   "id": "ffc608e1-b297-429b-a8c3-b16c983c6668",
   "metadata": {},
   "outputs": [
    {
     "data": {
      "text/plain": [
       "{5, 56, 98}"
      ]
     },
     "execution_count": 5,
     "metadata": {},
     "output_type": "execute_result"
    }
   ],
   "source": [
    "benimListem"
   ]
  },
  {
   "cell_type": "code",
   "execution_count": 8,
   "id": "2c0aef4b-3132-4dd1-95f8-359e4a90fa33",
   "metadata": {},
   "outputs": [],
   "source": [
    "benimSet = {\"a\",\"b\",\"c\",\"c\"}"
   ]
  },
  {
   "cell_type": "code",
   "execution_count": 9,
   "id": "696d0f81-6113-4679-81ef-9b361a6ce4d7",
   "metadata": {},
   "outputs": [
    {
     "data": {
      "text/plain": [
       "{'a', 'b', 'c'}"
      ]
     },
     "execution_count": 9,
     "metadata": {},
     "output_type": "execute_result"
    }
   ],
   "source": [
    "benimSet"
   ]
  },
  {
   "cell_type": "code",
   "execution_count": null,
   "id": "584aa13f-9e1c-4d5c-8612-1c8d3e40b7ec",
   "metadata": {},
   "outputs": [],
   "source": []
  }
 ],
 "metadata": {
  "kernelspec": {
   "display_name": "Python 3 (ipykernel)",
   "language": "python",
   "name": "python3"
  },
  "language_info": {
   "codemirror_mode": {
    "name": "ipython",
    "version": 3
   },
   "file_extension": ".py",
   "mimetype": "text/x-python",
   "name": "python",
   "nbconvert_exporter": "python",
   "pygments_lexer": "ipython3",
   "version": "3.12.7"
  }
 },
 "nbformat": 4,
 "nbformat_minor": 5
}
