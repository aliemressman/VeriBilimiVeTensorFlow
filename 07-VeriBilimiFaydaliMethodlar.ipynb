{
 "cells": [
  {
   "cell_type": "markdown",
   "id": "dfe516f0-9219-4931-9253-0c90bca3fa94",
   "metadata": {},
   "source": [
    "## RANGE"
   ]
  },
  {
   "cell_type": "code",
   "execution_count": 1,
   "id": "6f1957c3-b49d-45f2-b327-0647779aca2b",
   "metadata": {},
   "outputs": [
    {
     "data": {
      "text/plain": [
       "[5, 10, 15, 20, 25, 30, 35, 40]"
      ]
     },
     "execution_count": 1,
     "metadata": {},
     "output_type": "execute_result"
    }
   ],
   "source": [
    "list(range(5,45,5))"
   ]
  },
  {
   "cell_type": "markdown",
   "id": "653f83bb-f242-4421-ad8e-5c29df7e17f9",
   "metadata": {},
   "source": [
    "## ENUMERATE"
   ]
  },
  {
   "cell_type": "code",
   "execution_count": 5,
   "id": "7efc1577-e6bc-47c9-8f2a-6c277661a2c5",
   "metadata": {},
   "outputs": [
    {
     "name": "stdout",
     "output_type": "stream",
     "text": [
      "güncel numara: 5 güncel index 0\n",
      "güncel numara: 6 güncel index 1\n",
      "güncel numara: 7 güncel index 1\n",
      "güncel numara: 8 güncel index 1\n",
      "güncel numara: 9 güncel index 1\n",
      "güncel numara: 10 güncel index 1\n",
      "güncel numara: 11 güncel index 1\n",
      "güncel numara: 12 güncel index 1\n",
      "güncel numara: 13 güncel index 1\n",
      "güncel numara: 14 güncel index 1\n"
     ]
    }
   ],
   "source": [
    "index = 0 \n",
    "for numara in list(range(5,15)):\n",
    "    print(f\"güncel numara: {numara} güncel index {index}\")\n",
    "    index =+ 1"
   ]
  },
  {
   "cell_type": "code",
   "execution_count": 12,
   "id": "a2ac64c2-5aee-406d-8e60-e034a2309b46",
   "metadata": {},
   "outputs": [
    {
     "name": "stdout",
     "output_type": "stream",
     "text": [
      "(0, 5)\n",
      "(1, 6)\n",
      "(2, 7)\n",
      "(3, 8)\n",
      "(4, 9)\n",
      "(5, 10)\n",
      "(6, 11)\n",
      "(7, 12)\n",
      "(8, 13)\n",
      "(9, 14)\n"
     ]
    }
   ],
   "source": [
    "for eleman in enumerate(list(range(5,15))):\n",
    "    print(eleman)"
   ]
  },
  {
   "cell_type": "code",
   "execution_count": 17,
   "id": "9e211cf4-428d-4361-a127-08d2a62f257d",
   "metadata": {},
   "outputs": [
    {
     "name": "stdout",
     "output_type": "stream",
     "text": [
      "5 0\n",
      "6 1\n",
      "7 2\n",
      "8 3\n",
      "9 4\n",
      "10 5\n",
      "11 6\n",
      "12 7\n",
      "13 8\n",
      "14 9\n"
     ]
    }
   ],
   "source": [
    "for(index,numara) in enumerate(list(range(5,15))):\n",
    "    print(numara, index)\n"
   ]
  },
  {
   "cell_type": "markdown",
   "id": "c86179be-304d-473a-8fc5-6ad6ae309ddc",
   "metadata": {},
   "source": [
    "## RANDOM"
   ]
  },
  {
   "cell_type": "code",
   "execution_count": 18,
   "id": "c8aa8f56-1192-4c1f-aede-ed92b1165023",
   "metadata": {},
   "outputs": [],
   "source": [
    "from random import randint"
   ]
  },
  {
   "cell_type": "code",
   "execution_count": 19,
   "id": "ebabc5cf-bf77-48bd-a3da-09ae2f375ebe",
   "metadata": {},
   "outputs": [
    {
     "data": {
      "text/plain": [
       "28"
      ]
     },
     "execution_count": 19,
     "metadata": {},
     "output_type": "execute_result"
    }
   ],
   "source": [
    "randint(1,48)"
   ]
  },
  {
   "cell_type": "code",
   "execution_count": 20,
   "id": "a66e01a7-48f7-44e5-9073-dd4fc420edbc",
   "metadata": {},
   "outputs": [],
   "source": [
    "yeniListe = list(range(0,10))"
   ]
  },
  {
   "cell_type": "code",
   "execution_count": 21,
   "id": "75502c6c-120d-4ebf-add6-25712608eb09",
   "metadata": {},
   "outputs": [
    {
     "data": {
      "text/plain": [
       "1"
      ]
     },
     "execution_count": 21,
     "metadata": {},
     "output_type": "execute_result"
    }
   ],
   "source": [
    "yeniListe[randint(0,9)]"
   ]
  },
  {
   "cell_type": "code",
   "execution_count": 22,
   "id": "eb11c0b5-7c9d-4eaa-9d91-7e54c1010c4f",
   "metadata": {},
   "outputs": [],
   "source": [
    "from random import shuffle"
   ]
  },
  {
   "cell_type": "code",
   "execution_count": 23,
   "id": "7a0959af-808a-477b-92f0-974bb245c15e",
   "metadata": {},
   "outputs": [],
   "source": [
    "shuffle(yeniListe)"
   ]
  },
  {
   "cell_type": "code",
   "execution_count": 24,
   "id": "aadcd111-f5a4-4821-8ab2-9f909bef315f",
   "metadata": {},
   "outputs": [
    {
     "data": {
      "text/plain": [
       "[9, 3, 8, 6, 5, 1, 0, 2, 7, 4]"
      ]
     },
     "execution_count": 24,
     "metadata": {},
     "output_type": "execute_result"
    }
   ],
   "source": [
    "yeniListe"
   ]
  },
  {
   "cell_type": "markdown",
   "id": "ea7f19d2-c31a-4acf-b7a7-b4e4f089ea8c",
   "metadata": {},
   "source": [
    " ## ZİP"
   ]
  },
  {
   "cell_type": "code",
   "execution_count": 25,
   "id": "4dd97533-b6e7-4c9e-9196-899cb9126883",
   "metadata": {},
   "outputs": [],
   "source": [
    "yemekListesi = [\"mız\",\"ananas\",\"armut\"]\n",
    "kaloriListesi = [100,16,122]\n",
    "gunListesi = [\"pazartesi\",\"sali\",\"carsamba\"]"
   ]
  },
  {
   "cell_type": "code",
   "execution_count": 27,
   "id": "68dd8225-caff-46dc-b15e-67faf35550b5",
   "metadata": {},
   "outputs": [],
   "source": [
    "zipList = list(zip(yemekListesi,kaloriListesi,gunListesi))"
   ]
  },
  {
   "cell_type": "code",
   "execution_count": 28,
   "id": "8b304030-90c0-407c-bd5f-9182fff44da5",
   "metadata": {},
   "outputs": [
    {
     "data": {
      "text/plain": [
       "[('mız', 100, 'pazartesi'), ('ananas', 16, 'sali'), ('armut', 122, 'carsamba')]"
      ]
     },
     "execution_count": 28,
     "metadata": {},
     "output_type": "execute_result"
    }
   ],
   "source": [
    "zipList"
   ]
  },
  {
   "cell_type": "markdown",
   "id": "5fab8936-d7d9-4215-afe7-6b6b25a98261",
   "metadata": {},
   "source": [
    "## Listeler İleri Seviye"
   ]
  },
  {
   "cell_type": "code",
   "execution_count": 30,
   "id": "b1457290-86c4-470c-87ea-3178813c0a6e",
   "metadata": {},
   "outputs": [],
   "source": [
    "listeOrnegi = []\n",
    "benimString = \"Ali Emre Şişman\"\n",
    "\n",
    "for harf in benimString:\n",
    "    listeOrnegi.append(harf)"
   ]
  },
  {
   "cell_type": "code",
   "execution_count": 31,
   "id": "03b5134c-497d-445b-a404-378fc8866e0b",
   "metadata": {},
   "outputs": [
    {
     "data": {
      "text/plain": [
       "['A', 'l', 'i', ' ', 'E', 'm', 'r', 'e', ' ', 'Ş', 'i', 'ş', 'm', 'a', 'n']"
      ]
     },
     "execution_count": 31,
     "metadata": {},
     "output_type": "execute_result"
    }
   ],
   "source": [
    "listeOrnegi"
   ]
  },
  {
   "cell_type": "code",
   "execution_count": 32,
   "id": "54b43c69-c182-435f-852a-46e6ef3e9e40",
   "metadata": {},
   "outputs": [],
   "source": [
    "yeniString = \"ali emre\""
   ]
  },
  {
   "cell_type": "code",
   "execution_count": 33,
   "id": "b872a187-2928-4bf0-a7fc-3d77570a4e61",
   "metadata": {},
   "outputs": [],
   "source": [
    "yeniListe =[eleman for eleman in yeniString]"
   ]
  },
  {
   "cell_type": "code",
   "execution_count": 34,
   "id": "12395e86-e5d6-461f-aa85-d069949274de",
   "metadata": {},
   "outputs": [
    {
     "data": {
      "text/plain": [
       "['a', 'l', 'i', ' ', 'e', 'm', 'r', 'e']"
      ]
     },
     "execution_count": 34,
     "metadata": {},
     "output_type": "execute_result"
    }
   ],
   "source": [
    "yeniListe"
   ]
  },
  {
   "cell_type": "code",
   "execution_count": 37,
   "id": "f987be62-2452-46c5-afce-e8f24367ec43",
   "metadata": {},
   "outputs": [],
   "source": [
    "ikinciListeOrnegi = [numara ** 5 for numara in list(range(0,10))]"
   ]
  },
  {
   "cell_type": "code",
   "execution_count": 38,
   "id": "fb20d0bc-9a25-44e4-a622-ffe207b45f1d",
   "metadata": {},
   "outputs": [
    {
     "data": {
      "text/plain": [
       "[0, 1, 32, 243, 1024, 3125, 7776, 16807, 32768, 59049]"
      ]
     },
     "execution_count": 38,
     "metadata": {},
     "output_type": "execute_result"
    }
   ],
   "source": [
    "ikinciListeOrnegi"
   ]
  },
  {
   "cell_type": "code",
   "execution_count": null,
   "id": "868ad252-26a8-420d-8d4e-e4dd7fc3b060",
   "metadata": {},
   "outputs": [],
   "source": []
  }
 ],
 "metadata": {
  "kernelspec": {
   "display_name": "Python 3 (ipykernel)",
   "language": "python",
   "name": "python3"
  },
  "language_info": {
   "codemirror_mode": {
    "name": "ipython",
    "version": 3
   },
   "file_extension": ".py",
   "mimetype": "text/x-python",
   "name": "python",
   "nbconvert_exporter": "python",
   "pygments_lexer": "ipython3",
   "version": "3.12.7"
  }
 },
 "nbformat": 4,
 "nbformat_minor": 5
}
