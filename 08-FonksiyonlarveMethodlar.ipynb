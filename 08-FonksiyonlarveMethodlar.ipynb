{
 "cells": [
  {
   "cell_type": "markdown",
   "id": "ce17c7d7-e8b2-48e7-8270-8b471eced9d0",
   "metadata": {},
   "source": [
    "## ARGS & kwargs -> Sayısız Argümanlar"
   ]
  },
  {
   "cell_type": "code",
   "execution_count": 1,
   "id": "c41a3439-cc9b-4294-82f2-8ecba40883b4",
   "metadata": {},
   "outputs": [],
   "source": [
    "def benimFonksiyonum(*args):\n",
    "    return args\n",
    "    "
   ]
  },
  {
   "cell_type": "code",
   "execution_count": 2,
   "id": "8e240cfa-cc20-49bd-8dfe-1dff6e9f9ed3",
   "metadata": {},
   "outputs": [
    {
     "data": {
      "text/plain": [
       "tuple"
      ]
     },
     "execution_count": 2,
     "metadata": {},
     "output_type": "execute_result"
    }
   ],
   "source": [
    "type(benimFonksiyonum(20,30,40))"
   ]
  },
  {
   "cell_type": "code",
   "execution_count": 3,
   "id": "0a5cde5a-9875-49cd-ac0b-b7b3ce3e767b",
   "metadata": {},
   "outputs": [],
   "source": [
    "def ornekFonksiyon(**kwargs):\n",
    "    return(kwargs)"
   ]
  },
  {
   "cell_type": "code",
   "execution_count": 5,
   "id": "114bce19-edfd-46ef-becf-009f3a210fc1",
   "metadata": {},
   "outputs": [
    {
     "data": {
      "text/plain": [
       "dict"
      ]
     },
     "execution_count": 5,
     "metadata": {},
     "output_type": "execute_result"
    }
   ],
   "source": [
    "type(ornekFonksiyon(muz = 100, elma = 222,ananas = 443))"
   ]
  },
  {
   "cell_type": "code",
   "execution_count": 6,
   "id": "47c323f6-1fba-41c9-9281-678aa69e4b3b",
   "metadata": {},
   "outputs": [],
   "source": [
    "def keyWordKontrolu(**kwargs):\n",
    "    if \"atıl\" in kwargs:\n",
    "        print(\"atıl var\")\n",
    "    else:\n",
    "        print(\"Atıl yok\")"
   ]
  },
  {
   "cell_type": "code",
   "execution_count": 7,
   "id": "376af162-b688-48bf-acb0-a1728cc0b63c",
   "metadata": {},
   "outputs": [
    {
     "name": "stdout",
     "output_type": "stream",
     "text": [
      "atıl var\n"
     ]
    }
   ],
   "source": [
    "keyWordKontrolu(ahmet = 80, atıl = 449, mehme= 546)"
   ]
  },
  {
   "cell_type": "code",
   "execution_count": null,
   "id": "b0927795-8f61-4b44-bb30-672982ad8162",
   "metadata": {},
   "outputs": [],
   "source": []
  }
 ],
 "metadata": {
  "kernelspec": {
   "display_name": "Python 3 (ipykernel)",
   "language": "python",
   "name": "python3"
  },
  "language_info": {
   "codemirror_mode": {
    "name": "ipython",
    "version": 3
   },
   "file_extension": ".py",
   "mimetype": "text/x-python",
   "name": "python",
   "nbconvert_exporter": "python",
   "pygments_lexer": "ipython3",
   "version": "3.12.7"
  }
 },
 "nbformat": 4,
 "nbformat_minor": 5
}
