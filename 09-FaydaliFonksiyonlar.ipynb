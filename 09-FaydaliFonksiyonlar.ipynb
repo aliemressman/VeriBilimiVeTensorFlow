{
 "cells": [
  {
   "cell_type": "markdown",
   "id": "7552c177-21aa-4a5e-afe7-306695674f15",
   "metadata": {},
   "source": [
    "## MAP"
   ]
  },
  {
   "cell_type": "code",
   "execution_count": 1,
   "id": "ae90b9e8-5cae-46d6-86ef-b5e16e62e170",
   "metadata": {},
   "outputs": [],
   "source": [
    "def bolmeIslemi(sayi):\n",
    "    return sayi / 2"
   ]
  },
  {
   "cell_type": "code",
   "execution_count": 4,
   "id": "89cac2c1-d5bc-46dc-b25d-c12ad848e0d7",
   "metadata": {},
   "outputs": [],
   "source": [
    "benimListem = list(range(1,11))"
   ]
  },
  {
   "cell_type": "code",
   "execution_count": 6,
   "id": "a3ebc3b8-575b-4ceb-8f9b-37881d61a8cb",
   "metadata": {},
   "outputs": [
    {
     "data": {
      "text/plain": [
       "[0.5, 1.0, 1.5, 2.0, 2.5, 3.0, 3.5, 4.0, 4.5, 5.0]"
      ]
     },
     "execution_count": 6,
     "metadata": {},
     "output_type": "execute_result"
    }
   ],
   "source": [
    "list(map(bolmeIslemi,benimListem))"
   ]
  },
  {
   "cell_type": "code",
   "execution_count": 7,
   "id": "8d850196-af95-42f4-a46d-ef84530e0c1d",
   "metadata": {},
   "outputs": [],
   "source": [
    "def kontrolFonks(string):\n",
    "    return \"a\" in string"
   ]
  },
  {
   "cell_type": "code",
   "execution_count": 9,
   "id": "8954fbe5-6cbb-4b45-a24a-fdcdc8dcdf76",
   "metadata": {},
   "outputs": [
    {
     "data": {
      "text/plain": [
       "True"
      ]
     },
     "execution_count": 9,
     "metadata": {},
     "output_type": "execute_result"
    }
   ],
   "source": [
    "kontrolFonks(\"ali\")"
   ]
  },
  {
   "cell_type": "code",
   "execution_count": 10,
   "id": "443b37d4-570f-416c-800d-d7f469edc112",
   "metadata": {},
   "outputs": [],
   "source": [
    "stringList = [\"ali\",\"emre\",\"şişman\",\"elif\",\"ceren\",\"mehmet\",\"fatma\"]"
   ]
  },
  {
   "cell_type": "code",
   "execution_count": 20,
   "id": "4cdd3c7a-9d6e-4140-a119-93dfb7619878",
   "metadata": {},
   "outputs": [],
   "source": [
    "sonuc = list(map(kontrolFonks,stringList))"
   ]
  },
  {
   "cell_type": "code",
   "execution_count": 21,
   "id": "cabc601b-503a-47ca-8598-eef7d91d0bae",
   "metadata": {},
   "outputs": [
    {
     "data": {
      "text/plain": [
       "4"
      ]
     },
     "execution_count": 21,
     "metadata": {},
     "output_type": "execute_result"
    }
   ],
   "source": [
    "sonuc.count(False)"
   ]
  },
  {
   "cell_type": "markdown",
   "id": "f2e8d5e0-2cf9-4c15-a2ed-817b88e6cb61",
   "metadata": {},
   "source": [
    "## FİLTER"
   ]
  },
  {
   "cell_type": "code",
   "execution_count": 23,
   "id": "6fbb8d88-d420-4d0e-8d69-02b172319fb4",
   "metadata": {},
   "outputs": [
    {
     "data": {
      "text/plain": [
       "['ali', 'şişman', 'fatma']"
      ]
     },
     "execution_count": 23,
     "metadata": {},
     "output_type": "execute_result"
    }
   ],
   "source": [
    "list(filter(kontrolFonks,stringList))"
   ]
  },
  {
   "cell_type": "markdown",
   "id": "4a59f2c8-1e6e-4b82-91e5-51c166992b91",
   "metadata": {},
   "source": [
    "## LAMBDA"
   ]
  },
  {
   "cell_type": "code",
   "execution_count": 24,
   "id": "53de3e41-5220-4f83-af88-d05cb18421e9",
   "metadata": {},
   "outputs": [],
   "source": [
    "carpma = lambda numara : numara * 3"
   ]
  },
  {
   "cell_type": "code",
   "execution_count": 25,
   "id": "58c8bde6-dacc-4018-b892-7bbe202183d4",
   "metadata": {},
   "outputs": [
    {
     "data": {
      "text/plain": [
       "30"
      ]
     },
     "execution_count": 25,
     "metadata": {},
     "output_type": "execute_result"
    }
   ],
   "source": [
    "carpma(10)"
   ]
  },
  {
   "cell_type": "code",
   "execution_count": null,
   "id": "cec1b8e2-b62d-48ad-a0e0-6f16bfe85785",
   "metadata": {},
   "outputs": [],
   "source": []
  }
 ],
 "metadata": {
  "kernelspec": {
   "display_name": "Python 3 (ipykernel)",
   "language": "python",
   "name": "python3"
  },
  "language_info": {
   "codemirror_mode": {
    "name": "ipython",
    "version": 3
   },
   "file_extension": ".py",
   "mimetype": "text/x-python",
   "name": "python",
   "nbconvert_exporter": "python",
   "pygments_lexer": "ipython3",
   "version": "3.12.7"
  }
 },
 "nbformat": 4,
 "nbformat_minor": 5
}
