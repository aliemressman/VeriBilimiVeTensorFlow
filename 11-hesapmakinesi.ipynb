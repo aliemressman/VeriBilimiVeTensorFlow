{
 "cells": [
  {
   "cell_type": "code",
   "execution_count": 6,
   "id": "82a3e073-a827-42d5-a125-391652dc81c9",
   "metadata": {},
   "outputs": [
    {
     "name": "stdin",
     "output_type": "stream",
     "text": [
      "ilk sayiyi giriniz: 15\n",
      "ikinci sayiyi giriniz: 30\n",
      "işlemi seçiniz: + - / *  +\n"
     ]
    },
    {
     "data": {
      "text/plain": [
       "'15 + 30 = 45'"
      ]
     },
     "execution_count": 6,
     "metadata": {},
     "output_type": "execute_result"
    }
   ],
   "source": [
    "def hesaplaFonk(n1,n2,islem):\n",
    "    \n",
    "    if islem == \"+\":\n",
    "        return (str(n1) + \" + \" + str(n2) + \" = \" + str(n1+n2))\n",
    "    if islem == \"-\":\n",
    "        return (str(n1)+ \" - \"+str(n2) + \" = \" +str(n1-n2))\n",
    "    if islem == \"*\":\n",
    "        return (str(n1)+ \" * \"+str(n2) + \" = \" + str(n1*n2))\n",
    "    if islem == \"/\":\n",
    "        return (str(n1)+ \" / \"+str(n2) + \" = \" +str(n1/n2))\n",
    "\n",
    "number1 = int(input(\"ilk sayiyi giriniz:\"))\n",
    "number2 = int(input(\"ikinci sayiyi giriniz:\"))\n",
    "islem = input(\"işlemi seçiniz: + - / * \")\n",
    "hesaplaFonk(number1,number2,islem)"
   ]
  },
  {
   "cell_type": "code",
   "execution_count": null,
   "id": "3baedaa8-f5e1-4cf6-ad8b-70e0d068cf46",
   "metadata": {},
   "outputs": [],
   "source": []
  }
 ],
 "metadata": {
  "kernelspec": {
   "display_name": "Python 3 (ipykernel)",
   "language": "python",
   "name": "python3"
  },
  "language_info": {
   "codemirror_mode": {
    "name": "ipython",
    "version": 3
   },
   "file_extension": ".py",
   "mimetype": "text/x-python",
   "name": "python",
   "nbconvert_exporter": "python",
   "pygments_lexer": "ipython3",
   "version": "3.12.7"
  }
 },
 "nbformat": 4,
 "nbformat_minor": 5
}
