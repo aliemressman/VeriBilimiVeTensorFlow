{
 "cells": [
  {
   "cell_type": "code",
   "execution_count": 10,
   "id": "250978a7-c7a8-4292-bf90-b3739b3e664b",
   "metadata": {},
   "outputs": [],
   "source": [
    "class SuperKahramann():\n",
    "    def __init__(self,isim,yas,meslek):\n",
    "        self.isim = isim\n",
    "        self.yas = yas\n",
    "        self.meslek = meslek\n",
    "    \n",
    "\n",
    "\n"
   ]
  },
  {
   "cell_type": "code",
   "execution_count": 12,
   "id": "58c1f413-18b7-4681-8087-e0b19a0baaa8",
   "metadata": {},
   "outputs": [],
   "source": [
    "supermann = SuperKahramann(\"superman\",16,\"kahraman\")"
   ]
  },
  {
   "cell_type": "code",
   "execution_count": 14,
   "id": "347efeb9-4482-416f-8e26-b3d602cacb32",
   "metadata": {},
   "outputs": [
    {
     "data": {
      "text/plain": [
       "'superman'"
      ]
     },
     "execution_count": 14,
     "metadata": {},
     "output_type": "execute_result"
    }
   ],
   "source": [
    "supermann.isim"
   ]
  },
  {
   "cell_type": "code",
   "execution_count": 16,
   "id": "f2e6e3fe-da0c-4319-8b91-d531834cf2fb",
   "metadata": {},
   "outputs": [
    {
     "data": {
      "text/plain": [
       "16"
      ]
     },
     "execution_count": 16,
     "metadata": {},
     "output_type": "execute_result"
    }
   ],
   "source": [
    "superman.yas"
   ]
  },
  {
   "cell_type": "markdown",
   "id": "60802c4a-73ad-425c-927c-4631c26c8977",
   "metadata": {},
   "source": [
    "## default "
   ]
  },
  {
   "cell_type": "code",
   "execution_count": 24,
   "id": "3d5ce54f-ca4e-4a0a-8bde-bec440509c0a",
   "metadata": {},
   "outputs": [],
   "source": [
    "class Kopeks():\n",
    "    def __init__(self,yas = 6):\n",
    "        self.yas = yas"
   ]
  },
  {
   "cell_type": "code",
   "execution_count": 25,
   "id": "3f52a4cd-bdae-4372-9968-b7fa10ccdf50",
   "metadata": {},
   "outputs": [],
   "source": [
    "benimKopeks = Kopeks()"
   ]
  },
  {
   "cell_type": "code",
   "execution_count": 26,
   "id": "05e07358-0f4e-4ba5-8c7b-4848702f7c76",
   "metadata": {},
   "outputs": [
    {
     "data": {
      "text/plain": [
       "6"
      ]
     },
     "execution_count": 26,
     "metadata": {},
     "output_type": "execute_result"
    }
   ],
   "source": [
    "benimKopeks.yas"
   ]
  },
  {
   "cell_type": "code",
   "execution_count": 36,
   "id": "2dc24080-7cab-4757-aae8-2452ab016d2a",
   "metadata": {},
   "outputs": [],
   "source": [
    "class YasHesaplamaa():\n",
    "    yilCarpan = 7\n",
    "    def __init__(self,yas):\n",
    "        self.insanYas = yas * YasHesaplamaa.yilCarpan"
   ]
  },
  {
   "cell_type": "code",
   "execution_count": 37,
   "id": "91f57f6b-7f69-4608-9fca-96fc48f4668c",
   "metadata": {},
   "outputs": [],
   "source": [
    "yasHesaplama = YasHesaplamaa(3)"
   ]
  },
  {
   "cell_type": "code",
   "execution_count": 38,
   "id": "bc621cff-744f-47f4-8cf5-7d9332c22028",
   "metadata": {},
   "outputs": [
    {
     "data": {
      "text/plain": [
       "21"
      ]
     },
     "execution_count": 38,
     "metadata": {},
     "output_type": "execute_result"
    }
   ],
   "source": [
    "yasHesaplama.insanYas"
   ]
  },
  {
   "cell_type": "markdown",
   "id": "d9d56b3b-76b9-4b7c-a91b-6e4341060c00",
   "metadata": {},
   "source": [
    "## İNHERİTANCE"
   ]
  },
  {
   "cell_type": "code",
   "execution_count": 49,
   "id": "8d02b1bb-dcc8-4aed-b3a3-f915fac9e85f",
   "metadata": {},
   "outputs": [],
   "source": [
    "class Hayvan():\n",
    "    def __init__(self):\n",
    "        print(\"Hayvan sınıfı init çağrıldı\")\n",
    "    def method1(self):\n",
    "        print(\"Hayvan sınıfı method1 çağrıldı\")\n",
    "    def method2(self):\n",
    "        print(\"Hayvan sınıfı method2 çağrıldı\")"
   ]
  },
  {
   "cell_type": "code",
   "execution_count": 53,
   "id": "80dae511-389a-462d-ae1c-ceff05054bbb",
   "metadata": {},
   "outputs": [],
   "source": [
    "class Kedi(Hayvan):\n",
    "    def __init__(self):\n",
    "        Hayvan.__init__(self)\n",
    "        print(\"kedi sınıfı inti çağroşdoi\")\n",
    "\n",
    "    # OVERRİDE\n",
    "    def method1(self):\n",
    "        print(\"Kedi sınıfı method1 çağrıldı\")"
   ]
  },
  {
   "cell_type": "code",
   "execution_count": 54,
   "id": "b4d1eac4-035e-4762-b796-7d92bf140e8a",
   "metadata": {},
   "outputs": [
    {
     "name": "stdout",
     "output_type": "stream",
     "text": [
      "Hayvan sınıfı init çağrıldı\n",
      "kedi sınıfı inti çağroşdoi\n"
     ]
    }
   ],
   "source": [
    "benimKedi = Kedi()"
   ]
  },
  {
   "cell_type": "code",
   "execution_count": 55,
   "id": "55ef3669-aa73-4487-83a5-0c43abb1d457",
   "metadata": {},
   "outputs": [
    {
     "name": "stdout",
     "output_type": "stream",
     "text": [
      "Kedi sınıfı method1 çağrıldı\n"
     ]
    }
   ],
   "source": [
    "benimKedi.method1()"
   ]
  },
  {
   "cell_type": "code",
   "execution_count": 56,
   "id": "df0f20fd-4dd9-4010-a984-7a067f45ee2c",
   "metadata": {},
   "outputs": [
    {
     "name": "stdout",
     "output_type": "stream",
     "text": [
      "Hayvan sınıfı init çağrıldı\n"
     ]
    }
   ],
   "source": [
    "benimHayvam = Hayvan()"
   ]
  },
  {
   "cell_type": "code",
   "execution_count": 57,
   "id": "896936a8-c122-4d0d-ad70-5903ee93c428",
   "metadata": {},
   "outputs": [
    {
     "name": "stdout",
     "output_type": "stream",
     "text": [
      "Hayvan sınıfı method1 çağrıldı\n"
     ]
    }
   ],
   "source": [
    "benimHayvam.method1()"
   ]
  },
  {
   "cell_type": "markdown",
   "id": "5c6d6f3c-dd00-4d81-82c7-ed46503cf733",
   "metadata": {},
   "source": [
    "## POLYMORPHİSM"
   ]
  },
  {
   "cell_type": "code",
   "execution_count": 59,
   "id": "047a124d-aa3f-49f7-99f1-3f4f16b96323",
   "metadata": {},
   "outputs": [],
   "source": [
    "class Elma():\n",
    "    def __init__(self,isim):\n",
    "        self.isim = isim\n",
    "    def bilgiVer(self):\n",
    "        return self.isim + \"100 kaloridir.\""
   ]
  },
  {
   "cell_type": "code",
   "execution_count": 60,
   "id": "bc80dec2-3261-4d86-8088-4ac7fe21e310",
   "metadata": {},
   "outputs": [],
   "source": [
    "class Muz():\n",
    "    def __init__(self,isim):\n",
    "        self.isim = isim\n",
    "    def bilgiVer(self):\n",
    "        return self.isim + \"100 kaloridir.\""
   ]
  },
  {
   "cell_type": "code",
   "execution_count": 61,
   "id": "ebeb3a60-3e69-4fc7-8d7b-4b1a0dd461f2",
   "metadata": {},
   "outputs": [],
   "source": [
    "elma = Elma(\"elma\")"
   ]
  },
  {
   "cell_type": "code",
   "execution_count": 62,
   "id": "aab8954a-b728-427f-8dac-33aa4ab6e212",
   "metadata": {},
   "outputs": [
    {
     "data": {
      "text/plain": [
       "'elma100 kaloridir.'"
      ]
     },
     "execution_count": 62,
     "metadata": {},
     "output_type": "execute_result"
    }
   ],
   "source": [
    "elma.bilgiVer()"
   ]
  },
  {
   "cell_type": "code",
   "execution_count": 63,
   "id": "db5c6b72-8f6e-427a-9746-1b608d0a1831",
   "metadata": {},
   "outputs": [],
   "source": [
    "muz = Muz(\"Muz\")"
   ]
  },
  {
   "cell_type": "code",
   "execution_count": 64,
   "id": "5e97c32b-2b8c-4855-9a79-230ce5dcd6e4",
   "metadata": {},
   "outputs": [
    {
     "data": {
      "text/plain": [
       "'Muz100 kaloridir.'"
      ]
     },
     "execution_count": 64,
     "metadata": {},
     "output_type": "execute_result"
    }
   ],
   "source": [
    "muz.bilgiVer()"
   ]
  },
  {
   "cell_type": "code",
   "execution_count": 65,
   "id": "870ba547-4136-4357-8b21-f351e9ede540",
   "metadata": {},
   "outputs": [],
   "source": [
    "meyveListesi = [elma , muz]"
   ]
  },
  {
   "cell_type": "code",
   "execution_count": 66,
   "id": "0c56afee-9783-4dbf-881b-c76a40f00555",
   "metadata": {},
   "outputs": [
    {
     "name": "stdout",
     "output_type": "stream",
     "text": [
      "elma100 kaloridir.\n",
      "Muz100 kaloridir.\n"
     ]
    }
   ],
   "source": [
    "for meyve in meyveListesi:\n",
    "    print(meyve.bilgiVer())"
   ]
  },
  {
   "cell_type": "code",
   "execution_count": null,
   "id": "11180dd3-6932-42d3-8526-9838261aa8c0",
   "metadata": {},
   "outputs": [],
   "source": []
  }
 ],
 "metadata": {
  "kernelspec": {
   "display_name": "Python 3 (ipykernel)",
   "language": "python",
   "name": "python3"
  },
  "language_info": {
   "codemirror_mode": {
    "name": "ipython",
    "version": 3
   },
   "file_extension": ".py",
   "mimetype": "text/x-python",
   "name": "python",
   "nbconvert_exporter": "python",
   "pygments_lexer": "ipython3",
   "version": "3.12.7"
  }
 },
 "nbformat": 4,
 "nbformat_minor": 5
}
