{
 "cells": [
  {
   "cell_type": "code",
   "execution_count": 4,
   "id": "57f0eba1-7618-40f7-97fb-0a68ca8c3963",
   "metadata": {},
   "outputs": [],
   "source": [
    "class Meyve():\n",
    "\n",
    "    def __init__(self,isim,kalori):\n",
    "        self.isim = isim\n",
    "        self.kalori = kalori\n",
    "\n",
    "    def __str__(self):\n",
    "        return f\"{self.isim} şu kadar kaloriye sahipsiniz {self.kalori}\"\n",
    "\n",
    "    def __len__(self):\n",
    "        return self.kalori"
   ]
  },
  {
   "cell_type": "code",
   "execution_count": 5,
   "id": "6e2da332-f56d-4246-875a-746dd5ee6307",
   "metadata": {},
   "outputs": [],
   "source": [
    "muz = Meyve(\"muz\",155)"
   ]
  },
  {
   "cell_type": "code",
   "execution_count": 6,
   "id": "05c25afe-7a69-4dd2-8104-97ca57a422c3",
   "metadata": {},
   "outputs": [
    {
     "name": "stdout",
     "output_type": "stream",
     "text": [
      "muz şu kadar kaloriye sahipsiniz 155\n"
     ]
    }
   ],
   "source": [
    "print(muz)"
   ]
  },
  {
   "cell_type": "code",
   "execution_count": 7,
   "id": "a7d62f41-f0f4-4583-a9d5-c5da8f9f40d2",
   "metadata": {},
   "outputs": [
    {
     "data": {
      "text/plain": [
       "155"
      ]
     },
     "execution_count": 7,
     "metadata": {},
     "output_type": "execute_result"
    }
   ],
   "source": [
    "len(muz)"
   ]
  },
  {
   "cell_type": "code",
   "execution_count": 8,
   "id": "64cae313-1b12-46f0-a5e0-0c893d7c7237",
   "metadata": {},
   "outputs": [],
   "source": [
    "benimListem = [4564,48,4,\"a\"]"
   ]
  },
  {
   "cell_type": "code",
   "execution_count": 9,
   "id": "c9d2b707-2bcd-4c23-8173-1a8a5a120dcb",
   "metadata": {},
   "outputs": [
    {
     "data": {
      "text/plain": [
       "4"
      ]
     },
     "execution_count": 9,
     "metadata": {},
     "output_type": "execute_result"
    }
   ],
   "source": [
    "len(benimListem)"
   ]
  },
  {
   "cell_type": "code",
   "execution_count": null,
   "id": "c14b0869-efc0-4ac7-b2f8-7c9d6139cc14",
   "metadata": {},
   "outputs": [],
   "source": []
  }
 ],
 "metadata": {
  "kernelspec": {
   "display_name": "Python 3 (ipykernel)",
   "language": "python",
   "name": "python3"
  },
  "language_info": {
   "codemirror_mode": {
    "name": "ipython",
    "version": 3
   },
   "file_extension": ".py",
   "mimetype": "text/x-python",
   "name": "python",
   "nbconvert_exporter": "python",
   "pygments_lexer": "ipython3",
   "version": "3.12.7"
  }
 },
 "nbformat": 4,
 "nbformat_minor": 5
}
