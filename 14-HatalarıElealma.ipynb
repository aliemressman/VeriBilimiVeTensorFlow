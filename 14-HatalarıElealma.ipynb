{
 "cells": [
  {
   "cell_type": "markdown",
   "id": "8b83c8e4-73f9-4c08-a5e9-7352d2afe4e1",
   "metadata": {},
   "source": [
    "## try & except & else& finally"
   ]
  },
  {
   "cell_type": "code",
   "execution_count": 1,
   "id": "608b7047-48ad-4180-af11-41e7fb0a014b",
   "metadata": {},
   "outputs": [
    {
     "name": "stdin",
     "output_type": "stream",
     "text": [
      "numarayı giriniz: emre\n"
     ]
    },
    {
     "name": "stdout",
     "output_type": "stream",
     "text": [
      "Lütfen gerçekten numara giriniz\n",
      "finally çağrıldı\n"
     ]
    },
    {
     "name": "stdin",
     "output_type": "stream",
     "text": [
      "numarayı giriniz: emre\n"
     ]
    },
    {
     "name": "stdout",
     "output_type": "stream",
     "text": [
      "Lütfen gerçekten numara giriniz\n",
      "finally çağrıldı\n"
     ]
    },
    {
     "name": "stdin",
     "output_type": "stream",
     "text": [
      "numarayı giriniz: 55\n"
     ]
    },
    {
     "name": "stdout",
     "output_type": "stream",
     "text": [
      "teşekkürler\n",
      "finally çağrıldı\n"
     ]
    }
   ],
   "source": [
    "while True:\n",
    "    try:\n",
    "        benimInt = int(input(\"numarayı giriniz:\"))\n",
    "    except:\n",
    "        print(\"Lütfen gerçekten numara giriniz\")\n",
    "    else:\n",
    "        print(\"teşekkürler\")\n",
    "        break\n",
    "    finally:\n",
    "        print(\"finally çağrıldı\")"
   ]
  },
  {
   "cell_type": "code",
   "execution_count": null,
   "id": "ecc84be3-ebd1-4708-a06e-6e418f7007ac",
   "metadata": {},
   "outputs": [],
   "source": []
  }
 ],
 "metadata": {
  "kernelspec": {
   "display_name": "Python 3 (ipykernel)",
   "language": "python",
   "name": "python3"
  },
  "language_info": {
   "codemirror_mode": {
    "name": "ipython",
    "version": 3
   },
   "file_extension": ".py",
   "mimetype": "text/x-python",
   "name": "python",
   "nbconvert_exporter": "python",
   "pygments_lexer": "ipython3",
   "version": "3.12.7"
  }
 },
 "nbformat": 4,
 "nbformat_minor": 5
}
