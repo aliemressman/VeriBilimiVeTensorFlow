{
 "cells": [
  {
   "cell_type": "code",
   "execution_count": 1,
   "id": "5c17d3f3-e1ff-43e9-99f4-7c6e6a6b1f5a",
   "metadata": {},
   "outputs": [
    {
     "name": "stderr",
     "output_type": "stream",
     "text": [
      "Matplotlib is building the font cache; this may take a moment.\n"
     ]
    }
   ],
   "source": [
    "import numpy as np\n",
    "import matplotlib.pyplot as matplot"
   ]
  },
  {
   "cell_type": "code",
   "execution_count": 2,
   "id": "4c11cb24-c3b4-4ea2-a2f4-0039ad321938",
   "metadata": {},
   "outputs": [
    {
     "data": {
      "text/plain": [
       "4010.8033639712185"
      ]
     },
     "execution_count": 2,
     "metadata": {},
     "output_type": "execute_result"
    }
   ],
   "source": [
    "maasListesi = np.random.normal(4000,500,1000)\n",
    "np.mean(maasListesi)"
   ]
  },
  {
   "cell_type": "code",
   "execution_count": 3,
   "id": "02702654-343d-424e-b21f-32b66bf510f8",
   "metadata": {},
   "outputs": [
    {
     "data": {
      "image/png": "[encoded data removed]",
      "text/plain": [
       "<Figure size 640x480 with 1 Axes>"
      ]
     },
     "metadata": {},
     "output_type": "display_data"
    }
   ],
   "source": [
    "matplot.hist(maasListesi,50)\n",
    "matplot.show()"
   ]
  },
  {
   "cell_type": "code",
   "execution_count": null,
   "id": "2efca408-2908-4a1a-aba4-597ee31bbac7",
   "metadata": {},
   "outputs": [],
   "source": []
  }
 ],
 "metadata": {
  "kernelspec": {
   "display_name": "Python 3 (ipykernel)",
   "language": "python",
   "name": "python3"
  },
  "language_info": {
   "codemirror_mode": {
    "name": "ipython",
    "version": 3
   },
   "file_extension": ".py",
   "mimetype": "text/x-python",
   "name": "python",
   "nbconvert_exporter": "python",
   "pygments_lexer": "ipython3",
   "version": "3.12.7"
  }
 },
 "nbformat": 4,
 "nbformat_minor": 5
}
