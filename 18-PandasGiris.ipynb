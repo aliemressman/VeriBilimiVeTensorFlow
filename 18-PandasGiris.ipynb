{
 "cells": [
  {
   "cell_type": "code",
   "execution_count": 1,
   "id": "f40311ec-1d5e-49e2-9efa-93f55b136549",
   "metadata": {},
   "outputs": [],
   "source": [
    "import numpy as np\n",
    "import pandas as pd"
   ]
  },
  {
   "cell_type": "markdown",
   "id": "241ec18b-4cdf-42da-8288-9b9066851365",
   "metadata": {},
   "source": [
    "## Series"
   ]
  },
  {
   "cell_type": "code",
   "execution_count": null,
   "id": "491cb295-461a-482e-ab15-ce0052a08919",
   "metadata": {},
   "outputs": [],
   "source": [
    "benimSozlugum = {\"Ali\": 50,\"Zeynep\":40,\"Mehmet\": 30}\n"
   ]
  },
  {
   "cell_type": "code",
   "execution_count": 4,
   "id": "6a19c1e4-dd82-4ff1-9141-0d65fd4c13a7",
   "metadata": {},
   "outputs": [
    {
     "data": {
      "text/plain": [
       "Ali       50\n",
       "Zeynep    40\n",
       "Mehmet    30\n",
       "dtype: int64"
      ]
     },
     "execution_count": 4,
     "metadata": {},
     "output_type": "execute_result"
    }
   ],
   "source": [
    "pd.Series(benimSozlugum)"
   ]
  },
  {
   "cell_type": "code",
   "execution_count": 5,
   "id": "23db6284-5c24-463a-96d5-d563c427a96c",
   "metadata": {},
   "outputs": [],
   "source": [
    "benimYaslarim = [50,40,30]\n",
    "benimIsimlerim = [\"ali\",\"zeynep\",\"mehmet\"]"
   ]
  },
  {
   "cell_type": "code",
   "execution_count": 6,
   "id": "ef465102-b8cb-442b-bcb3-79de1200d8d0",
   "metadata": {},
   "outputs": [
    {
     "data": {
      "text/plain": [
       "0    50\n",
       "1    40\n",
       "2    30\n",
       "dtype: int64"
      ]
     },
     "execution_count": 6,
     "metadata": {},
     "output_type": "execute_result"
    }
   ],
   "source": [
    "pd.Series(benimYaslarim)"
   ]
  },
  {
   "cell_type": "code",
   "execution_count": 29,
   "id": "6beceeb5-5196-4432-b601-adc7f6e9e4b0",
   "metadata": {},
   "outputs": [
    {
     "data": {
      "text/plain": [
       "ali       50\n",
       "zeynep    40\n",
       "mehmet    30\n",
       "dtype: int64"
      ]
     },
     "execution_count": 29,
     "metadata": {},
     "output_type": "execute_result"
    }
   ],
   "source": [
    "pd.Series(benimYaslarim,benimIsimlerim)"
   ]
  },
  {
   "cell_type": "code",
   "execution_count": 8,
   "id": "de02f52c-9bc8-42d1-989f-16aa5a9b9c70",
   "metadata": {},
   "outputs": [
    {
     "data": {
      "text/plain": [
       "ali       50\n",
       "zeynep    40\n",
       "mehmet    30\n",
       "dtype: int64"
      ]
     },
     "execution_count": 8,
     "metadata": {},
     "output_type": "execute_result"
    }
   ],
   "source": [
    "pd.Series(data = benimYaslarim, index = benimIsimlerim)"
   ]
  },
  {
   "cell_type": "code",
   "execution_count": 9,
   "id": "b53b5d43-9bb9-47e5-b840-7fd3371d2922",
   "metadata": {},
   "outputs": [],
   "source": [
    "numpyDizisi = np.array([50,40,30])"
   ]
  },
  {
   "cell_type": "code",
   "execution_count": 11,
   "id": "1877e580-842f-4712-a01f-88521a995b87",
   "metadata": {},
   "outputs": [
    {
     "data": {
      "text/plain": [
       "array([50, 40, 30])"
      ]
     },
     "execution_count": 11,
     "metadata": {},
     "output_type": "execute_result"
    }
   ],
   "source": [
    "numpyDizisi"
   ]
  },
  {
   "cell_type": "code",
   "execution_count": 12,
   "id": "1defb134-1818-4b90-86d2-4fa6c4a82f1f",
   "metadata": {},
   "outputs": [
    {
     "data": {
      "text/plain": [
       "0    50\n",
       "1    40\n",
       "2    30\n",
       "dtype: int32"
      ]
     },
     "execution_count": 12,
     "metadata": {},
     "output_type": "execute_result"
    }
   ],
   "source": [
    "pd.Series(numpyDizisi)"
   ]
  },
  {
   "cell_type": "code",
   "execution_count": 13,
   "id": "b6195c9d-eb76-46fd-ba57-fae31e1bdac0",
   "metadata": {},
   "outputs": [
    {
     "data": {
      "text/plain": [
       "ali       50\n",
       "zeynep    40\n",
       "mehmet    30\n",
       "dtype: int32"
      ]
     },
     "execution_count": 13,
     "metadata": {},
     "output_type": "execute_result"
    }
   ],
   "source": [
    "pd.Series(numpyDizisi,benimIsimlerim)"
   ]
  },
  {
   "cell_type": "code",
   "execution_count": 15,
   "id": "b8290656-1cfd-406e-9377-73539673245c",
   "metadata": {},
   "outputs": [
    {
     "data": {
      "text/plain": [
       "1     Atıl\n",
       "2    Atlas\n",
       "3    Osman\n",
       "dtype: object"
      ]
     },
     "execution_count": 15,
     "metadata": {},
     "output_type": "execute_result"
    }
   ],
   "source": [
    "pd.Series([\"Atıl\",\"Atlas\",\"Osman\"],[1,2,3])"
   ]
  },
  {
   "cell_type": "code",
   "execution_count": 17,
   "id": "8196987b-d87c-4b99-abd6-727911112ca8",
   "metadata": {},
   "outputs": [],
   "source": [
    "yarismaSonucu1 = pd.Series([10,5,1],[\"atıl\",\"atlas\",\"osman\"])"
   ]
  },
  {
   "cell_type": "code",
   "execution_count": 18,
   "id": "4006c450-e92e-461e-ba0b-345e2d3232fd",
   "metadata": {},
   "outputs": [
    {
     "data": {
      "text/plain": [
       "atıl     10\n",
       "atlas     5\n",
       "osman     1\n",
       "dtype: int64"
      ]
     },
     "execution_count": 18,
     "metadata": {},
     "output_type": "execute_result"
    }
   ],
   "source": [
    "yarismaSonucu1"
   ]
  },
  {
   "cell_type": "code",
   "execution_count": 19,
   "id": "c09b14ca-d75e-46a1-8fc5-82a28502bb73",
   "metadata": {},
   "outputs": [],
   "source": [
    "yarismaSonucu2 = pd.Series([20,10,8],[\"atıl\",\"atlas\",\"osman\"])"
   ]
  },
  {
   "cell_type": "code",
   "execution_count": 20,
   "id": "d8cdac9f-11e4-4fb0-905e-6833a40c3a65",
   "metadata": {},
   "outputs": [
    {
     "data": {
      "text/plain": [
       "atıl     20\n",
       "atlas    10\n",
       "osman     8\n",
       "dtype: int64"
      ]
     },
     "execution_count": 20,
     "metadata": {},
     "output_type": "execute_result"
    }
   ],
   "source": [
    "yarismaSonucu2"
   ]
  },
  {
   "cell_type": "code",
   "execution_count": 22,
   "id": "455aaeb2-1e7c-41db-833c-6eabdcd83b36",
   "metadata": {},
   "outputs": [
    {
     "data": {
      "text/plain": [
       "20"
      ]
     },
     "execution_count": 22,
     "metadata": {},
     "output_type": "execute_result"
    }
   ],
   "source": [
    "yarismaSonucu2[\"atıl\"]"
   ]
  },
  {
   "cell_type": "code",
   "execution_count": 23,
   "id": "6671ba38-0eac-4e50-865b-e8c2b09696d7",
   "metadata": {},
   "outputs": [],
   "source": [
    "sonSonuc = yarismaSonucu1 + yarismaSonucu2"
   ]
  },
  {
   "cell_type": "code",
   "execution_count": 24,
   "id": "a951c8fc-867c-4d10-8314-ab74e17c72e5",
   "metadata": {},
   "outputs": [
    {
     "data": {
      "text/plain": [
       "atıl     30\n",
       "atlas    15\n",
       "osman     9\n",
       "dtype: int64"
      ]
     },
     "execution_count": 24,
     "metadata": {},
     "output_type": "execute_result"
    }
   ],
   "source": [
    "sonSonuc"
   ]
  },
  {
   "cell_type": "code",
   "execution_count": 26,
   "id": "c84b3669-14f3-4279-b8e0-a73a79039300",
   "metadata": {},
   "outputs": [],
   "source": [
    "farkliSeries1 = pd.Series([15,15,22],[\"a\",\"b\",\"c\"])\n",
    "farkliSeries2 = pd.Series([15,15,22],[\"a\",\"c\",\"c\"])"
   ]
  },
  {
   "cell_type": "code",
   "execution_count": 27,
   "id": "8024a257-9084-4478-9a73-d8ced74dfc53",
   "metadata": {},
   "outputs": [],
   "source": [
    "toplamSeries = farkliSeries1 + farkliSeries2"
   ]
  },
  {
   "cell_type": "code",
   "execution_count": 28,
   "id": "301053b2-7f8d-49ec-bca0-2f3b115ea3f3",
   "metadata": {},
   "outputs": [
    {
     "data": {
      "text/plain": [
       "a    30.0\n",
       "b     NaN\n",
       "c    37.0\n",
       "c    44.0\n",
       "dtype: float64"
      ]
     },
     "execution_count": 28,
     "metadata": {},
     "output_type": "execute_result"
    }
   ],
   "source": [
    "toplamSeries"
   ]
  },
  {
   "cell_type": "code",
   "execution_count": null,
   "id": "60255aaf-5653-48e7-b4ed-c7deb1b8443c",
   "metadata": {},
   "outputs": [],
   "source": []
  }
 ],
 "metadata": {
  "kernelspec": {
   "display_name": "Python 3",
   "language": "python",
   "name": "python3"
  },
  "language_info": {
   "codemirror_mode": {
    "name": "ipython",
    "version": 3
   },
   "file_extension": ".py",
   "mimetype": "text/x-python",
   "name": "python",
   "nbconvert_exporter": "python",
   "pygments_lexer": "ipython3",
   "version": "3.12.7"
  }
 },
 "nbformat": 4,
 "nbformat_minor": 5
}
