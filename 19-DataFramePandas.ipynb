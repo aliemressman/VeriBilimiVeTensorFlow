{
 "cells": [
  {
   "cell_type": "code",
   "execution_count": 1,
   "id": "9f3c2acf-78d0-4902-b0df-e692a9bfd52a",
   "metadata": {},
   "outputs": [],
   "source": [
    "import numpy as np\n",
    "import pandas as pd"
   ]
  },
  {
   "cell_type": "code",
   "execution_count": 4,
   "id": "ec28131e-dd6d-46be-b648-9d0eb63aafa6",
   "metadata": {},
   "outputs": [],
   "source": [
    "data = np.random.randn(4,3)"
   ]
  },
  {
   "cell_type": "code",
   "execution_count": 5,
   "id": "bb47bc23-f562-44fa-bfc9-45f4d2f04803",
   "metadata": {},
   "outputs": [
    {
     "data": {
      "text/plain": [
       "array([[ 0.62930212,  0.03546385,  0.22312939],\n",
       "       [ 0.96412296,  0.35023134, -0.98940019],\n",
       "       [ 0.40686411, -0.14024943, -0.8839143 ],\n",
       "       [-0.45484   ,  0.4418373 ,  0.57677895]])"
      ]
     },
     "execution_count": 5,
     "metadata": {},
     "output_type": "execute_result"
    }
   ],
   "source": [
    "data"
   ]
  },
  {
   "cell_type": "code",
   "execution_count": 7,
   "id": "14213098-c061-438d-be30-722bd28357c0",
   "metadata": {},
   "outputs": [],
   "source": [
    "dataFrame = pd.DataFrame(data)"
   ]
  },
  {
   "cell_type": "code",
   "execution_count": 10,
   "id": "4fea9a0e-157a-497b-bb81-2bb788dd62fe",
   "metadata": {},
   "outputs": [
    {
     "data": {
      "text/html": [
       "<div>\n",
       "<style scoped>\n",
       "    .dataframe tbody tr th:only-of-type {\n",
       "        vertical-align: middle;\n",
       "    }\n",
       "\n",
       "    .dataframe tbody tr th {\n",
       "        vertical-align: top;\n",
       "    }\n",
       "\n",
       "    .dataframe thead th {\n",
       "        text-align: right;\n",
       "    }\n",
       "</style>\n",
       "<table border=\"1\" class=\"dataframe\">\n",
       "  <thead>\n",
       "    <tr style=\"text-align: right;\">\n",
       "      <th></th>\n",
       "      <th>0</th>\n",
       "      <th>1</th>\n",
       "      <th>2</th>\n",
       "    </tr>\n",
       "  </thead>\n",
       "  <tbody>\n",
       "    <tr>\n",
       "      <th>0</th>\n",
       "      <td>0.629302</td>\n",
       "      <td>0.035464</td>\n",
       "      <td>0.223129</td>\n",
       "    </tr>\n",
       "    <tr>\n",
       "      <th>1</th>\n",
       "      <td>0.964123</td>\n",
       "      <td>0.350231</td>\n",
       "      <td>-0.989400</td>\n",
       "    </tr>\n",
       "    <tr>\n",
       "      <th>2</th>\n",
       "      <td>0.406864</td>\n",
       "      <td>-0.140249</td>\n",
       "      <td>-0.883914</td>\n",
       "    </tr>\n",
       "    <tr>\n",
       "      <th>3</th>\n",
       "      <td>-0.454840</td>\n",
       "      <td>0.441837</td>\n",
       "      <td>0.576779</td>\n",
       "    </tr>\n",
       "  </tbody>\n",
       "</table>\n",
       "</div>"
      ],
      "text/plain": [
       "          0         1         2\n",
       "0  0.629302  0.035464  0.223129\n",
       "1  0.964123  0.350231 -0.989400\n",
       "2  0.406864 -0.140249 -0.883914\n",
       "3 -0.454840  0.441837  0.576779"
      ]
     },
     "execution_count": 10,
     "metadata": {},
     "output_type": "execute_result"
    }
   ],
   "source": [
    "dataFrame"
   ]
  },
  {
   "cell_type": "code",
   "execution_count": 11,
   "id": "06e70e94-be29-4656-bae4-e20dbca4012e",
   "metadata": {},
   "outputs": [],
   "source": [
    "yeniDataFrame = pd.DataFrame(data,index = [\"Atıl\",\"Zeynep\",\"Merve\",\"Ceyhan\"], columns = [\"Maas\",\"Yas\",\"CalismaSaati\"])"
   ]
  },
  {
   "cell_type": "code",
   "execution_count": 12,
   "id": "e8f86c83-d16f-4e0e-a2ff-0f4035497ef5",
   "metadata": {},
   "outputs": [
    {
     "data": {
      "text/html": [
       "<div>\n",
       "<style scoped>\n",
       "    .dataframe tbody tr th:only-of-type {\n",
       "        vertical-align: middle;\n",
       "    }\n",
       "\n",
       "    .dataframe tbody tr th {\n",
       "        vertical-align: top;\n",
       "    }\n",
       "\n",
       "    .dataframe thead th {\n",
       "        text-align: right;\n",
       "    }\n",
       "</style>\n",
       "<table border=\"1\" class=\"dataframe\">\n",
       "  <thead>\n",
       "    <tr style=\"text-align: right;\">\n",
       "      <th></th>\n",
       "      <th>Maas</th>\n",
       "      <th>Yas</th>\n",
       "      <th>CalismaSaati</th>\n",
       "    </tr>\n",
       "  </thead>\n",
       "  <tbody>\n",
       "    <tr>\n",
       "      <th>Atıl</th>\n",
       "      <td>0.629302</td>\n",
       "      <td>0.035464</td>\n",
       "      <td>0.223129</td>\n",
       "    </tr>\n",
       "    <tr>\n",
       "      <th>Zeynep</th>\n",
       "      <td>0.964123</td>\n",
       "      <td>0.350231</td>\n",
       "      <td>-0.989400</td>\n",
       "    </tr>\n",
       "    <tr>\n",
       "      <th>Merve</th>\n",
       "      <td>0.406864</td>\n",
       "      <td>-0.140249</td>\n",
       "      <td>-0.883914</td>\n",
       "    </tr>\n",
       "    <tr>\n",
       "      <th>Ceyhan</th>\n",
       "      <td>-0.454840</td>\n",
       "      <td>0.441837</td>\n",
       "      <td>0.576779</td>\n",
       "    </tr>\n",
       "  </tbody>\n",
       "</table>\n",
       "</div>"
      ],
      "text/plain": [
       "            Maas       Yas  CalismaSaati\n",
       "Atıl    0.629302  0.035464      0.223129\n",
       "Zeynep  0.964123  0.350231     -0.989400\n",
       "Merve   0.406864 -0.140249     -0.883914\n",
       "Ceyhan -0.454840  0.441837      0.576779"
      ]
     },
     "execution_count": 12,
     "metadata": {},
     "output_type": "execute_result"
    }
   ],
   "source": [
    "yeniDataFrame"
   ]
  },
  {
   "cell_type": "code",
   "execution_count": 13,
   "id": "69822cc1-83b9-45da-acd3-f5915ac1e31c",
   "metadata": {},
   "outputs": [
    {
     "data": {
      "text/plain": [
       "Atıl      0.035464\n",
       "Zeynep    0.350231\n",
       "Merve    -0.140249\n",
       "Ceyhan    0.441837\n",
       "Name: Yas, dtype: float64"
      ]
     },
     "execution_count": 13,
     "metadata": {},
     "output_type": "execute_result"
    }
   ],
   "source": [
    "yeniDataFrame[\"Yas\"]"
   ]
  },
  {
   "cell_type": "code",
   "execution_count": 14,
   "id": "3483b59c-cb16-4893-bd68-1e18b06d8724",
   "metadata": {},
   "outputs": [
    {
     "data": {
      "text/plain": [
       "Atıl      0.223129\n",
       "Zeynep   -0.989400\n",
       "Merve    -0.883914\n",
       "Ceyhan    0.576779\n",
       "Name: CalismaSaati, dtype: float64"
      ]
     },
     "execution_count": 14,
     "metadata": {},
     "output_type": "execute_result"
    }
   ],
   "source": [
    "yeniDataFrame[\"CalismaSaati\"]"
   ]
  },
  {
   "cell_type": "code",
   "execution_count": 16,
   "id": "9b978bda-35f3-4ade-b09b-aaf22800a3e0",
   "metadata": {},
   "outputs": [
    {
     "data": {
      "text/html": [
       "<div>\n",
       "<style scoped>\n",
       "    .dataframe tbody tr th:only-of-type {\n",
       "        vertical-align: middle;\n",
       "    }\n",
       "\n",
       "    .dataframe tbody tr th {\n",
       "        vertical-align: top;\n",
       "    }\n",
       "\n",
       "    .dataframe thead th {\n",
       "        text-align: right;\n",
       "    }\n",
       "</style>\n",
       "<table border=\"1\" class=\"dataframe\">\n",
       "  <thead>\n",
       "    <tr style=\"text-align: right;\">\n",
       "      <th></th>\n",
       "      <th>Maas</th>\n",
       "      <th>Yas</th>\n",
       "    </tr>\n",
       "  </thead>\n",
       "  <tbody>\n",
       "    <tr>\n",
       "      <th>Atıl</th>\n",
       "      <td>0.629302</td>\n",
       "      <td>0.035464</td>\n",
       "    </tr>\n",
       "    <tr>\n",
       "      <th>Zeynep</th>\n",
       "      <td>0.964123</td>\n",
       "      <td>0.350231</td>\n",
       "    </tr>\n",
       "    <tr>\n",
       "      <th>Merve</th>\n",
       "      <td>0.406864</td>\n",
       "      <td>-0.140249</td>\n",
       "    </tr>\n",
       "    <tr>\n",
       "      <th>Ceyhan</th>\n",
       "      <td>-0.454840</td>\n",
       "      <td>0.441837</td>\n",
       "    </tr>\n",
       "  </tbody>\n",
       "</table>\n",
       "</div>"
      ],
      "text/plain": [
       "            Maas       Yas\n",
       "Atıl    0.629302  0.035464\n",
       "Zeynep  0.964123  0.350231\n",
       "Merve   0.406864 -0.140249\n",
       "Ceyhan -0.454840  0.441837"
      ]
     },
     "execution_count": 16,
     "metadata": {},
     "output_type": "execute_result"
    }
   ],
   "source": [
    "yeniDataFrame[[\"Maas\",\"Yas\"]]"
   ]
  },
  {
   "cell_type": "code",
   "execution_count": 19,
   "id": "df8d6e8b-e1eb-43c0-ba1f-68e961704980",
   "metadata": {},
   "outputs": [
    {
     "data": {
      "text/plain": [
       "Maas            0.629302\n",
       "Yas             0.035464\n",
       "CalismaSaati    0.223129\n",
       "Name: Atıl, dtype: float64"
      ]
     },
     "execution_count": 19,
     "metadata": {},
     "output_type": "execute_result"
    }
   ],
   "source": [
    "yeniDataFrame.loc[\"Atıl\"] # Lock ile Satırları çağıralibliyoruz."
   ]
  },
  {
   "cell_type": "code",
   "execution_count": 21,
   "id": "ae47367c-0e47-4afc-a715-4b64df1ff2df",
   "metadata": {},
   "outputs": [
    {
     "data": {
      "text/plain": [
       "Maas            0.964123\n",
       "Yas             0.350231\n",
       "CalismaSaati   -0.989400\n",
       "Name: Zeynep, dtype: float64"
      ]
     },
     "execution_count": 21,
     "metadata": {},
     "output_type": "execute_result"
    }
   ],
   "source": [
    "yeniDataFrame.iloc[1]"
   ]
  },
  {
   "cell_type": "code",
   "execution_count": 23,
   "id": "59f596f2-6dc3-4e19-9f7f-ace66a8f9bc9",
   "metadata": {},
   "outputs": [],
   "source": [
    "yeniDataFrame[\"Emeklilik Yasi\"] = yeniDataFrame[\"Yas\"] + yeniDataFrame[\"Yas\"]"
   ]
  },
  {
   "cell_type": "code",
   "execution_count": 24,
   "id": "833303c5-4236-4b68-9abe-770ae8ff9c2e",
   "metadata": {},
   "outputs": [
    {
     "data": {
      "text/html": [
       "<div>\n",
       "<style scoped>\n",
       "    .dataframe tbody tr th:only-of-type {\n",
       "        vertical-align: middle;\n",
       "    }\n",
       "\n",
       "    .dataframe tbody tr th {\n",
       "        vertical-align: top;\n",
       "    }\n",
       "\n",
       "    .dataframe thead th {\n",
       "        text-align: right;\n",
       "    }\n",
       "</style>\n",
       "<table border=\"1\" class=\"dataframe\">\n",
       "  <thead>\n",
       "    <tr style=\"text-align: right;\">\n",
       "      <th></th>\n",
       "      <th>Maas</th>\n",
       "      <th>Yas</th>\n",
       "      <th>CalismaSaati</th>\n",
       "      <th>Emeklilik Yasi</th>\n",
       "    </tr>\n",
       "  </thead>\n",
       "  <tbody>\n",
       "    <tr>\n",
       "      <th>Atıl</th>\n",
       "      <td>0.629302</td>\n",
       "      <td>0.035464</td>\n",
       "      <td>0.223129</td>\n",
       "      <td>0.070928</td>\n",
       "    </tr>\n",
       "    <tr>\n",
       "      <th>Zeynep</th>\n",
       "      <td>0.964123</td>\n",
       "      <td>0.350231</td>\n",
       "      <td>-0.989400</td>\n",
       "      <td>0.700463</td>\n",
       "    </tr>\n",
       "    <tr>\n",
       "      <th>Merve</th>\n",
       "      <td>0.406864</td>\n",
       "      <td>-0.140249</td>\n",
       "      <td>-0.883914</td>\n",
       "      <td>-0.280499</td>\n",
       "    </tr>\n",
       "    <tr>\n",
       "      <th>Ceyhan</th>\n",
       "      <td>-0.454840</td>\n",
       "      <td>0.441837</td>\n",
       "      <td>0.576779</td>\n",
       "      <td>0.883675</td>\n",
       "    </tr>\n",
       "  </tbody>\n",
       "</table>\n",
       "</div>"
      ],
      "text/plain": [
       "            Maas       Yas  CalismaSaati  Emeklilik Yasi\n",
       "Atıl    0.629302  0.035464      0.223129        0.070928\n",
       "Zeynep  0.964123  0.350231     -0.989400        0.700463\n",
       "Merve   0.406864 -0.140249     -0.883914       -0.280499\n",
       "Ceyhan -0.454840  0.441837      0.576779        0.883675"
      ]
     },
     "execution_count": 24,
     "metadata": {},
     "output_type": "execute_result"
    }
   ],
   "source": [
    "yeniDataFrame"
   ]
  },
  {
   "cell_type": "code",
   "execution_count": 25,
   "id": "f1c1a86d-9bb8-41f2-8a71-26de9eb8a784",
   "metadata": {},
   "outputs": [
    {
     "data": {
      "text/html": [
       "<div>\n",
       "<style scoped>\n",
       "    .dataframe tbody tr th:only-of-type {\n",
       "        vertical-align: middle;\n",
       "    }\n",
       "\n",
       "    .dataframe tbody tr th {\n",
       "        vertical-align: top;\n",
       "    }\n",
       "\n",
       "    .dataframe thead th {\n",
       "        text-align: right;\n",
       "    }\n",
       "</style>\n",
       "<table border=\"1\" class=\"dataframe\">\n",
       "  <thead>\n",
       "    <tr style=\"text-align: right;\">\n",
       "      <th></th>\n",
       "      <th>Maas</th>\n",
       "      <th>Yas</th>\n",
       "      <th>CalismaSaati</th>\n",
       "    </tr>\n",
       "  </thead>\n",
       "  <tbody>\n",
       "    <tr>\n",
       "      <th>Atıl</th>\n",
       "      <td>0.629302</td>\n",
       "      <td>0.035464</td>\n",
       "      <td>0.223129</td>\n",
       "    </tr>\n",
       "    <tr>\n",
       "      <th>Zeynep</th>\n",
       "      <td>0.964123</td>\n",
       "      <td>0.350231</td>\n",
       "      <td>-0.989400</td>\n",
       "    </tr>\n",
       "    <tr>\n",
       "      <th>Merve</th>\n",
       "      <td>0.406864</td>\n",
       "      <td>-0.140249</td>\n",
       "      <td>-0.883914</td>\n",
       "    </tr>\n",
       "    <tr>\n",
       "      <th>Ceyhan</th>\n",
       "      <td>-0.454840</td>\n",
       "      <td>0.441837</td>\n",
       "      <td>0.576779</td>\n",
       "    </tr>\n",
       "  </tbody>\n",
       "</table>\n",
       "</div>"
      ],
      "text/plain": [
       "            Maas       Yas  CalismaSaati\n",
       "Atıl    0.629302  0.035464      0.223129\n",
       "Zeynep  0.964123  0.350231     -0.989400\n",
       "Merve   0.406864 -0.140249     -0.883914\n",
       "Ceyhan -0.454840  0.441837      0.576779"
      ]
     },
     "execution_count": 25,
     "metadata": {},
     "output_type": "execute_result"
    }
   ],
   "source": [
    "yeniDataFrame.drop(\"Emeklilik Yasi\", axis = 1)"
   ]
  },
  {
   "cell_type": "code",
   "execution_count": 28,
   "id": "e3ddc41e-d7bb-4fa8-ae2f-44e754ddc38c",
   "metadata": {},
   "outputs": [
    {
     "data": {
      "text/html": [
       "<div>\n",
       "<style scoped>\n",
       "    .dataframe tbody tr th:only-of-type {\n",
       "        vertical-align: middle;\n",
       "    }\n",
       "\n",
       "    .dataframe tbody tr th {\n",
       "        vertical-align: top;\n",
       "    }\n",
       "\n",
       "    .dataframe thead th {\n",
       "        text-align: right;\n",
       "    }\n",
       "</style>\n",
       "<table border=\"1\" class=\"dataframe\">\n",
       "  <thead>\n",
       "    <tr style=\"text-align: right;\">\n",
       "      <th></th>\n",
       "      <th>Maas</th>\n",
       "      <th>Yas</th>\n",
       "      <th>CalismaSaati</th>\n",
       "      <th>Emeklilik Yasi</th>\n",
       "    </tr>\n",
       "  </thead>\n",
       "  <tbody>\n",
       "    <tr>\n",
       "      <th>Atıl</th>\n",
       "      <td>0.629302</td>\n",
       "      <td>0.035464</td>\n",
       "      <td>0.223129</td>\n",
       "      <td>0.070928</td>\n",
       "    </tr>\n",
       "    <tr>\n",
       "      <th>Zeynep</th>\n",
       "      <td>0.964123</td>\n",
       "      <td>0.350231</td>\n",
       "      <td>-0.989400</td>\n",
       "      <td>0.700463</td>\n",
       "    </tr>\n",
       "    <tr>\n",
       "      <th>Ceyhan</th>\n",
       "      <td>-0.454840</td>\n",
       "      <td>0.441837</td>\n",
       "      <td>0.576779</td>\n",
       "      <td>0.883675</td>\n",
       "    </tr>\n",
       "  </tbody>\n",
       "</table>\n",
       "</div>"
      ],
      "text/plain": [
       "            Maas       Yas  CalismaSaati  Emeklilik Yasi\n",
       "Atıl    0.629302  0.035464      0.223129        0.070928\n",
       "Zeynep  0.964123  0.350231     -0.989400        0.700463\n",
       "Ceyhan -0.454840  0.441837      0.576779        0.883675"
      ]
     },
     "execution_count": 28,
     "metadata": {},
     "output_type": "execute_result"
    }
   ],
   "source": [
    "yeniDataFrame.drop(\"Merve\", axis = 0)"
   ]
  },
  {
   "cell_type": "code",
   "execution_count": 29,
   "id": "85e7ac74-7fe8-474b-9652-ebcd090bed6f",
   "metadata": {},
   "outputs": [
    {
     "data": {
      "text/html": [
       "<div>\n",
       "<style scoped>\n",
       "    .dataframe tbody tr th:only-of-type {\n",
       "        vertical-align: middle;\n",
       "    }\n",
       "\n",
       "    .dataframe tbody tr th {\n",
       "        vertical-align: top;\n",
       "    }\n",
       "\n",
       "    .dataframe thead th {\n",
       "        text-align: right;\n",
       "    }\n",
       "</style>\n",
       "<table border=\"1\" class=\"dataframe\">\n",
       "  <thead>\n",
       "    <tr style=\"text-align: right;\">\n",
       "      <th></th>\n",
       "      <th>Maas</th>\n",
       "      <th>Yas</th>\n",
       "      <th>CalismaSaati</th>\n",
       "      <th>Emeklilik Yasi</th>\n",
       "    </tr>\n",
       "  </thead>\n",
       "  <tbody>\n",
       "    <tr>\n",
       "      <th>Atıl</th>\n",
       "      <td>0.629302</td>\n",
       "      <td>0.035464</td>\n",
       "      <td>0.223129</td>\n",
       "      <td>0.070928</td>\n",
       "    </tr>\n",
       "    <tr>\n",
       "      <th>Zeynep</th>\n",
       "      <td>0.964123</td>\n",
       "      <td>0.350231</td>\n",
       "      <td>-0.989400</td>\n",
       "      <td>0.700463</td>\n",
       "    </tr>\n",
       "    <tr>\n",
       "      <th>Merve</th>\n",
       "      <td>0.406864</td>\n",
       "      <td>-0.140249</td>\n",
       "      <td>-0.883914</td>\n",
       "      <td>-0.280499</td>\n",
       "    </tr>\n",
       "    <tr>\n",
       "      <th>Ceyhan</th>\n",
       "      <td>-0.454840</td>\n",
       "      <td>0.441837</td>\n",
       "      <td>0.576779</td>\n",
       "      <td>0.883675</td>\n",
       "    </tr>\n",
       "  </tbody>\n",
       "</table>\n",
       "</div>"
      ],
      "text/plain": [
       "            Maas       Yas  CalismaSaati  Emeklilik Yasi\n",
       "Atıl    0.629302  0.035464      0.223129        0.070928\n",
       "Zeynep  0.964123  0.350231     -0.989400        0.700463\n",
       "Merve   0.406864 -0.140249     -0.883914       -0.280499\n",
       "Ceyhan -0.454840  0.441837      0.576779        0.883675"
      ]
     },
     "execution_count": 29,
     "metadata": {},
     "output_type": "execute_result"
    }
   ],
   "source": [
    "yeniDataFrame"
   ]
  },
  {
   "cell_type": "code",
   "execution_count": 30,
   "id": "e7d749b2-21a5-45f5-8425-50d7c297beca",
   "metadata": {},
   "outputs": [],
   "source": [
    "yeniDataFrame.drop(\"Emeklilik Yasi\", axis = 1, inplace = True)"
   ]
  },
  {
   "cell_type": "code",
   "execution_count": 31,
   "id": "48157432-6573-45b1-b320-615048b1259a",
   "metadata": {},
   "outputs": [
    {
     "data": {
      "text/html": [
       "<div>\n",
       "<style scoped>\n",
       "    .dataframe tbody tr th:only-of-type {\n",
       "        vertical-align: middle;\n",
       "    }\n",
       "\n",
       "    .dataframe tbody tr th {\n",
       "        vertical-align: top;\n",
       "    }\n",
       "\n",
       "    .dataframe thead th {\n",
       "        text-align: right;\n",
       "    }\n",
       "</style>\n",
       "<table border=\"1\" class=\"dataframe\">\n",
       "  <thead>\n",
       "    <tr style=\"text-align: right;\">\n",
       "      <th></th>\n",
       "      <th>Maas</th>\n",
       "      <th>Yas</th>\n",
       "      <th>CalismaSaati</th>\n",
       "    </tr>\n",
       "  </thead>\n",
       "  <tbody>\n",
       "    <tr>\n",
       "      <th>Atıl</th>\n",
       "      <td>0.629302</td>\n",
       "      <td>0.035464</td>\n",
       "      <td>0.223129</td>\n",
       "    </tr>\n",
       "    <tr>\n",
       "      <th>Zeynep</th>\n",
       "      <td>0.964123</td>\n",
       "      <td>0.350231</td>\n",
       "      <td>-0.989400</td>\n",
       "    </tr>\n",
       "    <tr>\n",
       "      <th>Merve</th>\n",
       "      <td>0.406864</td>\n",
       "      <td>-0.140249</td>\n",
       "      <td>-0.883914</td>\n",
       "    </tr>\n",
       "    <tr>\n",
       "      <th>Ceyhan</th>\n",
       "      <td>-0.454840</td>\n",
       "      <td>0.441837</td>\n",
       "      <td>0.576779</td>\n",
       "    </tr>\n",
       "  </tbody>\n",
       "</table>\n",
       "</div>"
      ],
      "text/plain": [
       "            Maas       Yas  CalismaSaati\n",
       "Atıl    0.629302  0.035464      0.223129\n",
       "Zeynep  0.964123  0.350231     -0.989400\n",
       "Merve   0.406864 -0.140249     -0.883914\n",
       "Ceyhan -0.454840  0.441837      0.576779"
      ]
     },
     "execution_count": 31,
     "metadata": {},
     "output_type": "execute_result"
    }
   ],
   "source": [
    "yeniDataFrame"
   ]
  },
  {
   "cell_type": "code",
   "execution_count": 35,
   "id": "b6695dc5-ab1e-4af5-9375-f24e020641de",
   "metadata": {},
   "outputs": [
    {
     "data": {
      "text/plain": [
       "0.6293021207204104"
      ]
     },
     "execution_count": 35,
     "metadata": {},
     "output_type": "execute_result"
    }
   ],
   "source": [
    "yeniDataFrame.loc[\"Atıl\"][\"Maas\"]"
   ]
  },
  {
   "cell_type": "code",
   "execution_count": 36,
   "id": "6e3b0934-006b-4211-8593-01b90096f723",
   "metadata": {},
   "outputs": [
    {
     "data": {
      "text/plain": [
       "0.35023133591204786"
      ]
     },
     "execution_count": 36,
     "metadata": {},
     "output_type": "execute_result"
    }
   ],
   "source": [
    "yeniDataFrame.loc[\"Zeynep\",\"Yas\"]"
   ]
  },
  {
   "cell_type": "code",
   "execution_count": 37,
   "id": "1a3cc5a7-263c-4c62-b729-302e4e4807f0",
   "metadata": {},
   "outputs": [
    {
     "data": {
      "text/html": [
       "<div>\n",
       "<style scoped>\n",
       "    .dataframe tbody tr th:only-of-type {\n",
       "        vertical-align: middle;\n",
       "    }\n",
       "\n",
       "    .dataframe tbody tr th {\n",
       "        vertical-align: top;\n",
       "    }\n",
       "\n",
       "    .dataframe thead th {\n",
       "        text-align: right;\n",
       "    }\n",
       "</style>\n",
       "<table border=\"1\" class=\"dataframe\">\n",
       "  <thead>\n",
       "    <tr style=\"text-align: right;\">\n",
       "      <th></th>\n",
       "      <th>Maas</th>\n",
       "      <th>Yas</th>\n",
       "      <th>CalismaSaati</th>\n",
       "    </tr>\n",
       "  </thead>\n",
       "  <tbody>\n",
       "    <tr>\n",
       "      <th>Atıl</th>\n",
       "      <td>0.629302</td>\n",
       "      <td>0.035464</td>\n",
       "      <td>0.223129</td>\n",
       "    </tr>\n",
       "    <tr>\n",
       "      <th>Zeynep</th>\n",
       "      <td>0.964123</td>\n",
       "      <td>0.350231</td>\n",
       "      <td>-0.989400</td>\n",
       "    </tr>\n",
       "    <tr>\n",
       "      <th>Merve</th>\n",
       "      <td>0.406864</td>\n",
       "      <td>-0.140249</td>\n",
       "      <td>-0.883914</td>\n",
       "    </tr>\n",
       "    <tr>\n",
       "      <th>Ceyhan</th>\n",
       "      <td>-0.454840</td>\n",
       "      <td>0.441837</td>\n",
       "      <td>0.576779</td>\n",
       "    </tr>\n",
       "  </tbody>\n",
       "</table>\n",
       "</div>"
      ],
      "text/plain": [
       "            Maas       Yas  CalismaSaati\n",
       "Atıl    0.629302  0.035464      0.223129\n",
       "Zeynep  0.964123  0.350231     -0.989400\n",
       "Merve   0.406864 -0.140249     -0.883914\n",
       "Ceyhan -0.454840  0.441837      0.576779"
      ]
     },
     "execution_count": 37,
     "metadata": {},
     "output_type": "execute_result"
    }
   ],
   "source": [
    "yeniDataFrame"
   ]
  },
  {
   "cell_type": "code",
   "execution_count": 39,
   "id": "b91876c2-f7f8-4279-8b35-83956cd8ba30",
   "metadata": {},
   "outputs": [],
   "source": [
    "boolFrame =yeniDataFrame < 0"
   ]
  },
  {
   "cell_type": "code",
   "execution_count": 40,
   "id": "a82dc664-7c63-4abe-b483-90460802b60d",
   "metadata": {},
   "outputs": [
    {
     "data": {
      "text/html": [
       "<div>\n",
       "<style scoped>\n",
       "    .dataframe tbody tr th:only-of-type {\n",
       "        vertical-align: middle;\n",
       "    }\n",
       "\n",
       "    .dataframe tbody tr th {\n",
       "        vertical-align: top;\n",
       "    }\n",
       "\n",
       "    .dataframe thead th {\n",
       "        text-align: right;\n",
       "    }\n",
       "</style>\n",
       "<table border=\"1\" class=\"dataframe\">\n",
       "  <thead>\n",
       "    <tr style=\"text-align: right;\">\n",
       "      <th></th>\n",
       "      <th>Maas</th>\n",
       "      <th>Yas</th>\n",
       "      <th>CalismaSaati</th>\n",
       "    </tr>\n",
       "  </thead>\n",
       "  <tbody>\n",
       "    <tr>\n",
       "      <th>Atıl</th>\n",
       "      <td>0.629302</td>\n",
       "      <td>0.035464</td>\n",
       "      <td>0.223129</td>\n",
       "    </tr>\n",
       "    <tr>\n",
       "      <th>Zeynep</th>\n",
       "      <td>0.964123</td>\n",
       "      <td>0.350231</td>\n",
       "      <td>-0.989400</td>\n",
       "    </tr>\n",
       "    <tr>\n",
       "      <th>Merve</th>\n",
       "      <td>0.406864</td>\n",
       "      <td>-0.140249</td>\n",
       "      <td>-0.883914</td>\n",
       "    </tr>\n",
       "    <tr>\n",
       "      <th>Ceyhan</th>\n",
       "      <td>-0.454840</td>\n",
       "      <td>0.441837</td>\n",
       "      <td>0.576779</td>\n",
       "    </tr>\n",
       "  </tbody>\n",
       "</table>\n",
       "</div>"
      ],
      "text/plain": [
       "            Maas       Yas  CalismaSaati\n",
       "Atıl    0.629302  0.035464      0.223129\n",
       "Zeynep  0.964123  0.350231     -0.989400\n",
       "Merve   0.406864 -0.140249     -0.883914\n",
       "Ceyhan -0.454840  0.441837      0.576779"
      ]
     },
     "execution_count": 40,
     "metadata": {},
     "output_type": "execute_result"
    }
   ],
   "source": [
    "yeniDataFrame"
   ]
  },
  {
   "cell_type": "code",
   "execution_count": 41,
   "id": "ae38772d-5c8c-4d21-a7c1-649032630829",
   "metadata": {},
   "outputs": [
    {
     "data": {
      "text/html": [
       "<div>\n",
       "<style scoped>\n",
       "    .dataframe tbody tr th:only-of-type {\n",
       "        vertical-align: middle;\n",
       "    }\n",
       "\n",
       "    .dataframe tbody tr th {\n",
       "        vertical-align: top;\n",
       "    }\n",
       "\n",
       "    .dataframe thead th {\n",
       "        text-align: right;\n",
       "    }\n",
       "</style>\n",
       "<table border=\"1\" class=\"dataframe\">\n",
       "  <thead>\n",
       "    <tr style=\"text-align: right;\">\n",
       "      <th></th>\n",
       "      <th>Maas</th>\n",
       "      <th>Yas</th>\n",
       "      <th>CalismaSaati</th>\n",
       "    </tr>\n",
       "  </thead>\n",
       "  <tbody>\n",
       "    <tr>\n",
       "      <th>Atıl</th>\n",
       "      <td>NaN</td>\n",
       "      <td>NaN</td>\n",
       "      <td>NaN</td>\n",
       "    </tr>\n",
       "    <tr>\n",
       "      <th>Zeynep</th>\n",
       "      <td>NaN</td>\n",
       "      <td>NaN</td>\n",
       "      <td>-0.989400</td>\n",
       "    </tr>\n",
       "    <tr>\n",
       "      <th>Merve</th>\n",
       "      <td>NaN</td>\n",
       "      <td>-0.140249</td>\n",
       "      <td>-0.883914</td>\n",
       "    </tr>\n",
       "    <tr>\n",
       "      <th>Ceyhan</th>\n",
       "      <td>-0.45484</td>\n",
       "      <td>NaN</td>\n",
       "      <td>NaN</td>\n",
       "    </tr>\n",
       "  </tbody>\n",
       "</table>\n",
       "</div>"
      ],
      "text/plain": [
       "           Maas       Yas  CalismaSaati\n",
       "Atıl        NaN       NaN           NaN\n",
       "Zeynep      NaN       NaN     -0.989400\n",
       "Merve       NaN -0.140249     -0.883914\n",
       "Ceyhan -0.45484       NaN           NaN"
      ]
     },
     "execution_count": 41,
     "metadata": {},
     "output_type": "execute_result"
    }
   ],
   "source": [
    "yeniDataFrame[boolFrame]"
   ]
  },
  {
   "cell_type": "code",
   "execution_count": 42,
   "id": "5dd5c90b-86fd-457b-a1d8-a31b4fdf526a",
   "metadata": {},
   "outputs": [
    {
     "data": {
      "text/html": [
       "<div>\n",
       "<style scoped>\n",
       "    .dataframe tbody tr th:only-of-type {\n",
       "        vertical-align: middle;\n",
       "    }\n",
       "\n",
       "    .dataframe tbody tr th {\n",
       "        vertical-align: top;\n",
       "    }\n",
       "\n",
       "    .dataframe thead th {\n",
       "        text-align: right;\n",
       "    }\n",
       "</style>\n",
       "<table border=\"1\" class=\"dataframe\">\n",
       "  <thead>\n",
       "    <tr style=\"text-align: right;\">\n",
       "      <th></th>\n",
       "      <th>Maas</th>\n",
       "      <th>Yas</th>\n",
       "      <th>CalismaSaati</th>\n",
       "    </tr>\n",
       "  </thead>\n",
       "  <tbody>\n",
       "    <tr>\n",
       "      <th>Atıl</th>\n",
       "      <td>NaN</td>\n",
       "      <td>NaN</td>\n",
       "      <td>NaN</td>\n",
       "    </tr>\n",
       "    <tr>\n",
       "      <th>Zeynep</th>\n",
       "      <td>NaN</td>\n",
       "      <td>NaN</td>\n",
       "      <td>-0.989400</td>\n",
       "    </tr>\n",
       "    <tr>\n",
       "      <th>Merve</th>\n",
       "      <td>NaN</td>\n",
       "      <td>-0.140249</td>\n",
       "      <td>-0.883914</td>\n",
       "    </tr>\n",
       "    <tr>\n",
       "      <th>Ceyhan</th>\n",
       "      <td>-0.45484</td>\n",
       "      <td>NaN</td>\n",
       "      <td>NaN</td>\n",
       "    </tr>\n",
       "  </tbody>\n",
       "</table>\n",
       "</div>"
      ],
      "text/plain": [
       "           Maas       Yas  CalismaSaati\n",
       "Atıl        NaN       NaN           NaN\n",
       "Zeynep      NaN       NaN     -0.989400\n",
       "Merve       NaN -0.140249     -0.883914\n",
       "Ceyhan -0.45484       NaN           NaN"
      ]
     },
     "execution_count": 42,
     "metadata": {},
     "output_type": "execute_result"
    }
   ],
   "source": [
    "yeniDataFrame[yeniDataFrame < 0]"
   ]
  },
  {
   "cell_type": "code",
   "execution_count": 49,
   "id": "7b9fd861-cc1e-448d-8b54-00f5db6f60aa",
   "metadata": {},
   "outputs": [],
   "source": [
    "yenibool = yeniDataFrame[\"CalismaSaati\"] > 0"
   ]
  },
  {
   "cell_type": "code",
   "execution_count": 50,
   "id": "4ba95c62-8b0f-47a2-aefe-0dea54e7f8ea",
   "metadata": {},
   "outputs": [
    {
     "data": {
      "text/html": [
       "<div>\n",
       "<style scoped>\n",
       "    .dataframe tbody tr th:only-of-type {\n",
       "        vertical-align: middle;\n",
       "    }\n",
       "\n",
       "    .dataframe tbody tr th {\n",
       "        vertical-align: top;\n",
       "    }\n",
       "\n",
       "    .dataframe thead th {\n",
       "        text-align: right;\n",
       "    }\n",
       "</style>\n",
       "<table border=\"1\" class=\"dataframe\">\n",
       "  <thead>\n",
       "    <tr style=\"text-align: right;\">\n",
       "      <th></th>\n",
       "      <th>Maas</th>\n",
       "      <th>Yas</th>\n",
       "      <th>CalismaSaati</th>\n",
       "    </tr>\n",
       "  </thead>\n",
       "  <tbody>\n",
       "    <tr>\n",
       "      <th>Atıl</th>\n",
       "      <td>0.629302</td>\n",
       "      <td>0.035464</td>\n",
       "      <td>0.223129</td>\n",
       "    </tr>\n",
       "    <tr>\n",
       "      <th>Ceyhan</th>\n",
       "      <td>-0.454840</td>\n",
       "      <td>0.441837</td>\n",
       "      <td>0.576779</td>\n",
       "    </tr>\n",
       "  </tbody>\n",
       "</table>\n",
       "</div>"
      ],
      "text/plain": [
       "            Maas       Yas  CalismaSaati\n",
       "Atıl    0.629302  0.035464      0.223129\n",
       "Ceyhan -0.454840  0.441837      0.576779"
      ]
     },
     "execution_count": 50,
     "metadata": {},
     "output_type": "execute_result"
    }
   ],
   "source": [
    "yeniDataFrame[yenibool]"
   ]
  },
  {
   "cell_type": "code",
   "execution_count": 51,
   "id": "05f413de-0b84-459c-8abe-9600b116a519",
   "metadata": {},
   "outputs": [
    {
     "data": {
      "text/html": [
       "<div>\n",
       "<style scoped>\n",
       "    .dataframe tbody tr th:only-of-type {\n",
       "        vertical-align: middle;\n",
       "    }\n",
       "\n",
       "    .dataframe tbody tr th {\n",
       "        vertical-align: top;\n",
       "    }\n",
       "\n",
       "    .dataframe thead th {\n",
       "        text-align: right;\n",
       "    }\n",
       "</style>\n",
       "<table border=\"1\" class=\"dataframe\">\n",
       "  <thead>\n",
       "    <tr style=\"text-align: right;\">\n",
       "      <th></th>\n",
       "      <th>index</th>\n",
       "      <th>Maas</th>\n",
       "      <th>Yas</th>\n",
       "      <th>CalismaSaati</th>\n",
       "    </tr>\n",
       "  </thead>\n",
       "  <tbody>\n",
       "    <tr>\n",
       "      <th>0</th>\n",
       "      <td>Atıl</td>\n",
       "      <td>0.629302</td>\n",
       "      <td>0.035464</td>\n",
       "      <td>0.223129</td>\n",
       "    </tr>\n",
       "    <tr>\n",
       "      <th>1</th>\n",
       "      <td>Zeynep</td>\n",
       "      <td>0.964123</td>\n",
       "      <td>0.350231</td>\n",
       "      <td>-0.989400</td>\n",
       "    </tr>\n",
       "    <tr>\n",
       "      <th>2</th>\n",
       "      <td>Merve</td>\n",
       "      <td>0.406864</td>\n",
       "      <td>-0.140249</td>\n",
       "      <td>-0.883914</td>\n",
       "    </tr>\n",
       "    <tr>\n",
       "      <th>3</th>\n",
       "      <td>Ceyhan</td>\n",
       "      <td>-0.454840</td>\n",
       "      <td>0.441837</td>\n",
       "      <td>0.576779</td>\n",
       "    </tr>\n",
       "  </tbody>\n",
       "</table>\n",
       "</div>"
      ],
      "text/plain": [
       "    index      Maas       Yas  CalismaSaati\n",
       "0    Atıl  0.629302  0.035464      0.223129\n",
       "1  Zeynep  0.964123  0.350231     -0.989400\n",
       "2   Merve  0.406864 -0.140249     -0.883914\n",
       "3  Ceyhan -0.454840  0.441837      0.576779"
      ]
     },
     "execution_count": 51,
     "metadata": {},
     "output_type": "execute_result"
    }
   ],
   "source": [
    "yeniDataFrame.reset_index()"
   ]
  },
  {
   "cell_type": "code",
   "execution_count": 52,
   "id": "baa56277-ca88-45d7-93b4-78d20bcb2d9a",
   "metadata": {},
   "outputs": [
    {
     "data": {
      "text/html": [
       "<div>\n",
       "<style scoped>\n",
       "    .dataframe tbody tr th:only-of-type {\n",
       "        vertical-align: middle;\n",
       "    }\n",
       "\n",
       "    .dataframe tbody tr th {\n",
       "        vertical-align: top;\n",
       "    }\n",
       "\n",
       "    .dataframe thead th {\n",
       "        text-align: right;\n",
       "    }\n",
       "</style>\n",
       "<table border=\"1\" class=\"dataframe\">\n",
       "  <thead>\n",
       "    <tr style=\"text-align: right;\">\n",
       "      <th></th>\n",
       "      <th>Maas</th>\n",
       "      <th>Yas</th>\n",
       "      <th>CalismaSaati</th>\n",
       "    </tr>\n",
       "  </thead>\n",
       "  <tbody>\n",
       "    <tr>\n",
       "      <th>Atıl</th>\n",
       "      <td>0.629302</td>\n",
       "      <td>0.035464</td>\n",
       "      <td>0.223129</td>\n",
       "    </tr>\n",
       "    <tr>\n",
       "      <th>Zeynep</th>\n",
       "      <td>0.964123</td>\n",
       "      <td>0.350231</td>\n",
       "      <td>-0.989400</td>\n",
       "    </tr>\n",
       "    <tr>\n",
       "      <th>Merve</th>\n",
       "      <td>0.406864</td>\n",
       "      <td>-0.140249</td>\n",
       "      <td>-0.883914</td>\n",
       "    </tr>\n",
       "    <tr>\n",
       "      <th>Ceyhan</th>\n",
       "      <td>-0.454840</td>\n",
       "      <td>0.441837</td>\n",
       "      <td>0.576779</td>\n",
       "    </tr>\n",
       "  </tbody>\n",
       "</table>\n",
       "</div>"
      ],
      "text/plain": [
       "            Maas       Yas  CalismaSaati\n",
       "Atıl    0.629302  0.035464      0.223129\n",
       "Zeynep  0.964123  0.350231     -0.989400\n",
       "Merve   0.406864 -0.140249     -0.883914\n",
       "Ceyhan -0.454840  0.441837      0.576779"
      ]
     },
     "execution_count": 52,
     "metadata": {},
     "output_type": "execute_result"
    }
   ],
   "source": [
    "yeniDataFrame"
   ]
  },
  {
   "cell_type": "code",
   "execution_count": 53,
   "id": "8d8c2938-6aed-4650-9e56-c978e1499a7d",
   "metadata": {},
   "outputs": [],
   "source": [
    "yeniIndeksListesi = [\"ati\",\"Zey\",\"atl\",\"meh\"]"
   ]
  },
  {
   "cell_type": "code",
   "execution_count": 54,
   "id": "8fcc2dfa-a85f-4611-b5cf-4a045cef28c5",
   "metadata": {},
   "outputs": [],
   "source": [
    "yeniDataFrame[\"Yeni Indeks\"] = yeniIndeksListesi"
   ]
  },
  {
   "cell_type": "code",
   "execution_count": 55,
   "id": "4d6bf94c-959d-4897-8ca7-43cb2d596dd3",
   "metadata": {},
   "outputs": [
    {
     "data": {
      "text/html": [
       "<div>\n",
       "<style scoped>\n",
       "    .dataframe tbody tr th:only-of-type {\n",
       "        vertical-align: middle;\n",
       "    }\n",
       "\n",
       "    .dataframe tbody tr th {\n",
       "        vertical-align: top;\n",
       "    }\n",
       "\n",
       "    .dataframe thead th {\n",
       "        text-align: right;\n",
       "    }\n",
       "</style>\n",
       "<table border=\"1\" class=\"dataframe\">\n",
       "  <thead>\n",
       "    <tr style=\"text-align: right;\">\n",
       "      <th></th>\n",
       "      <th>Maas</th>\n",
       "      <th>Yas</th>\n",
       "      <th>CalismaSaati</th>\n",
       "      <th>Yeni Indeks</th>\n",
       "    </tr>\n",
       "  </thead>\n",
       "  <tbody>\n",
       "    <tr>\n",
       "      <th>Atıl</th>\n",
       "      <td>0.629302</td>\n",
       "      <td>0.035464</td>\n",
       "      <td>0.223129</td>\n",
       "      <td>ati</td>\n",
       "    </tr>\n",
       "    <tr>\n",
       "      <th>Zeynep</th>\n",
       "      <td>0.964123</td>\n",
       "      <td>0.350231</td>\n",
       "      <td>-0.989400</td>\n",
       "      <td>Zey</td>\n",
       "    </tr>\n",
       "    <tr>\n",
       "      <th>Merve</th>\n",
       "      <td>0.406864</td>\n",
       "      <td>-0.140249</td>\n",
       "      <td>-0.883914</td>\n",
       "      <td>atl</td>\n",
       "    </tr>\n",
       "    <tr>\n",
       "      <th>Ceyhan</th>\n",
       "      <td>-0.454840</td>\n",
       "      <td>0.441837</td>\n",
       "      <td>0.576779</td>\n",
       "      <td>meh</td>\n",
       "    </tr>\n",
       "  </tbody>\n",
       "</table>\n",
       "</div>"
      ],
      "text/plain": [
       "            Maas       Yas  CalismaSaati Yeni Indeks\n",
       "Atıl    0.629302  0.035464      0.223129         ati\n",
       "Zeynep  0.964123  0.350231     -0.989400         Zey\n",
       "Merve   0.406864 -0.140249     -0.883914         atl\n",
       "Ceyhan -0.454840  0.441837      0.576779         meh"
      ]
     },
     "execution_count": 55,
     "metadata": {},
     "output_type": "execute_result"
    }
   ],
   "source": [
    "yeniDataFrame"
   ]
  },
  {
   "cell_type": "code",
   "execution_count": 57,
   "id": "ae6b49f3-e574-4422-875d-6a3dc1370458",
   "metadata": {},
   "outputs": [
    {
     "data": {
      "text/html": [
       "<div>\n",
       "<style scoped>\n",
       "    .dataframe tbody tr th:only-of-type {\n",
       "        vertical-align: middle;\n",
       "    }\n",
       "\n",
       "    .dataframe tbody tr th {\n",
       "        vertical-align: top;\n",
       "    }\n",
       "\n",
       "    .dataframe thead th {\n",
       "        text-align: right;\n",
       "    }\n",
       "</style>\n",
       "<table border=\"1\" class=\"dataframe\">\n",
       "  <thead>\n",
       "    <tr style=\"text-align: right;\">\n",
       "      <th></th>\n",
       "      <th>Maas</th>\n",
       "      <th>Yas</th>\n",
       "      <th>CalismaSaati</th>\n",
       "    </tr>\n",
       "    <tr>\n",
       "      <th>Yeni Indeks</th>\n",
       "      <th></th>\n",
       "      <th></th>\n",
       "      <th></th>\n",
       "    </tr>\n",
       "  </thead>\n",
       "  <tbody>\n",
       "    <tr>\n",
       "      <th>ati</th>\n",
       "      <td>0.629302</td>\n",
       "      <td>0.035464</td>\n",
       "      <td>0.223129</td>\n",
       "    </tr>\n",
       "    <tr>\n",
       "      <th>Zey</th>\n",
       "      <td>0.964123</td>\n",
       "      <td>0.350231</td>\n",
       "      <td>-0.989400</td>\n",
       "    </tr>\n",
       "    <tr>\n",
       "      <th>atl</th>\n",
       "      <td>0.406864</td>\n",
       "      <td>-0.140249</td>\n",
       "      <td>-0.883914</td>\n",
       "    </tr>\n",
       "    <tr>\n",
       "      <th>meh</th>\n",
       "      <td>-0.454840</td>\n",
       "      <td>0.441837</td>\n",
       "      <td>0.576779</td>\n",
       "    </tr>\n",
       "  </tbody>\n",
       "</table>\n",
       "</div>"
      ],
      "text/plain": [
       "                 Maas       Yas  CalismaSaati\n",
       "Yeni Indeks                                  \n",
       "ati          0.629302  0.035464      0.223129\n",
       "Zey          0.964123  0.350231     -0.989400\n",
       "atl          0.406864 -0.140249     -0.883914\n",
       "meh         -0.454840  0.441837      0.576779"
      ]
     },
     "execution_count": 57,
     "metadata": {},
     "output_type": "execute_result"
    }
   ],
   "source": [
    "yeniDataFrame.set_index(\"Yeni Indeks\")"
   ]
  },
  {
   "cell_type": "code",
   "execution_count": 58,
   "id": "7e2306f5-9d81-41d5-98d6-f8f5a9d2109d",
   "metadata": {},
   "outputs": [
    {
     "data": {
      "text/html": [
       "<div>\n",
       "<style scoped>\n",
       "    .dataframe tbody tr th:only-of-type {\n",
       "        vertical-align: middle;\n",
       "    }\n",
       "\n",
       "    .dataframe tbody tr th {\n",
       "        vertical-align: top;\n",
       "    }\n",
       "\n",
       "    .dataframe thead th {\n",
       "        text-align: right;\n",
       "    }\n",
       "</style>\n",
       "<table border=\"1\" class=\"dataframe\">\n",
       "  <thead>\n",
       "    <tr style=\"text-align: right;\">\n",
       "      <th></th>\n",
       "      <th>Maas</th>\n",
       "      <th>Yas</th>\n",
       "      <th>CalismaSaati</th>\n",
       "      <th>Yeni Indeks</th>\n",
       "    </tr>\n",
       "  </thead>\n",
       "  <tbody>\n",
       "    <tr>\n",
       "      <th>Atıl</th>\n",
       "      <td>0.629302</td>\n",
       "      <td>0.035464</td>\n",
       "      <td>0.223129</td>\n",
       "      <td>ati</td>\n",
       "    </tr>\n",
       "    <tr>\n",
       "      <th>Zeynep</th>\n",
       "      <td>0.964123</td>\n",
       "      <td>0.350231</td>\n",
       "      <td>-0.989400</td>\n",
       "      <td>Zey</td>\n",
       "    </tr>\n",
       "    <tr>\n",
       "      <th>Merve</th>\n",
       "      <td>0.406864</td>\n",
       "      <td>-0.140249</td>\n",
       "      <td>-0.883914</td>\n",
       "      <td>atl</td>\n",
       "    </tr>\n",
       "    <tr>\n",
       "      <th>Ceyhan</th>\n",
       "      <td>-0.454840</td>\n",
       "      <td>0.441837</td>\n",
       "      <td>0.576779</td>\n",
       "      <td>meh</td>\n",
       "    </tr>\n",
       "  </tbody>\n",
       "</table>\n",
       "</div>"
      ],
      "text/plain": [
       "            Maas       Yas  CalismaSaati Yeni Indeks\n",
       "Atıl    0.629302  0.035464      0.223129         ati\n",
       "Zeynep  0.964123  0.350231     -0.989400         Zey\n",
       "Merve   0.406864 -0.140249     -0.883914         atl\n",
       "Ceyhan -0.454840  0.441837      0.576779         meh"
      ]
     },
     "execution_count": 58,
     "metadata": {},
     "output_type": "execute_result"
    }
   ],
   "source": [
    "yeniDataFrame"
   ]
  },
  {
   "cell_type": "code",
   "execution_count": 59,
   "id": "0ba30ae9-0f48-4f02-8d6d-7b394c735072",
   "metadata": {},
   "outputs": [],
   "source": [
    "yeniDataFrame.set_index(\"Yeni Indeks\",inplace = True)"
   ]
  },
  {
   "cell_type": "code",
   "execution_count": 60,
   "id": "b272e54b-f034-42e5-a1c4-c926d5312e11",
   "metadata": {},
   "outputs": [
    {
     "data": {
      "text/html": [
       "<div>\n",
       "<style scoped>\n",
       "    .dataframe tbody tr th:only-of-type {\n",
       "        vertical-align: middle;\n",
       "    }\n",
       "\n",
       "    .dataframe tbody tr th {\n",
       "        vertical-align: top;\n",
       "    }\n",
       "\n",
       "    .dataframe thead th {\n",
       "        text-align: right;\n",
       "    }\n",
       "</style>\n",
       "<table border=\"1\" class=\"dataframe\">\n",
       "  <thead>\n",
       "    <tr style=\"text-align: right;\">\n",
       "      <th></th>\n",
       "      <th>Maas</th>\n",
       "      <th>Yas</th>\n",
       "      <th>CalismaSaati</th>\n",
       "    </tr>\n",
       "    <tr>\n",
       "      <th>Yeni Indeks</th>\n",
       "      <th></th>\n",
       "      <th></th>\n",
       "      <th></th>\n",
       "    </tr>\n",
       "  </thead>\n",
       "  <tbody>\n",
       "    <tr>\n",
       "      <th>ati</th>\n",
       "      <td>0.629302</td>\n",
       "      <td>0.035464</td>\n",
       "      <td>0.223129</td>\n",
       "    </tr>\n",
       "    <tr>\n",
       "      <th>Zey</th>\n",
       "      <td>0.964123</td>\n",
       "      <td>0.350231</td>\n",
       "      <td>-0.989400</td>\n",
       "    </tr>\n",
       "    <tr>\n",
       "      <th>atl</th>\n",
       "      <td>0.406864</td>\n",
       "      <td>-0.140249</td>\n",
       "      <td>-0.883914</td>\n",
       "    </tr>\n",
       "    <tr>\n",
       "      <th>meh</th>\n",
       "      <td>-0.454840</td>\n",
       "      <td>0.441837</td>\n",
       "      <td>0.576779</td>\n",
       "    </tr>\n",
       "  </tbody>\n",
       "</table>\n",
       "</div>"
      ],
      "text/plain": [
       "                 Maas       Yas  CalismaSaati\n",
       "Yeni Indeks                                  \n",
       "ati          0.629302  0.035464      0.223129\n",
       "Zey          0.964123  0.350231     -0.989400\n",
       "atl          0.406864 -0.140249     -0.883914\n",
       "meh         -0.454840  0.441837      0.576779"
      ]
     },
     "execution_count": 60,
     "metadata": {},
     "output_type": "execute_result"
    }
   ],
   "source": [
    "yeniDataFrame"
   ]
  },
  {
   "cell_type": "code",
   "execution_count": 61,
   "id": "53f43349-ca11-48fd-a017-12a36795a2a4",
   "metadata": {},
   "outputs": [
    {
     "data": {
      "text/plain": [
       "Maas            0.629302\n",
       "Yas             0.035464\n",
       "CalismaSaati    0.223129\n",
       "Name: ati, dtype: float64"
      ]
     },
     "execution_count": 61,
     "metadata": {},
     "output_type": "execute_result"
    }
   ],
   "source": [
    "yeniDataFrame.loc[\"ati\"]"
   ]
  },
  {
   "cell_type": "code",
   "execution_count": 62,
   "id": "30f921d9-0b3f-48a5-b5d0-4f28f385769f",
   "metadata": {},
   "outputs": [],
   "source": [
    "ilkIndeksler = [\"Simpson\",\"Simpson\",\"Simpson\",\"SouthPark\",\"SouthPark\",\"SouthPark\"]"
   ]
  },
  {
   "cell_type": "code",
   "execution_count": 63,
   "id": "d00849c7-3951-46cd-9ba4-a82fc7ccbc66",
   "metadata": {},
   "outputs": [],
   "source": [
    "icIndeksler = [\"Homer\",\"Bart\",\"Marge\",\"Cartman\",\"Kenny\",\"Kyle\"]"
   ]
  },
  {
   "cell_type": "code",
   "execution_count": 64,
   "id": "aff69320-d745-4269-9b7e-1b3ecddf86c0",
   "metadata": {},
   "outputs": [],
   "source": [
    "birlesmisIndeks = list(zip(ilkIndeksler,icIndeksler))"
   ]
  },
  {
   "cell_type": "code",
   "execution_count": 65,
   "id": "4bd1128a-6293-4c7a-9a3c-ab9520c473c8",
   "metadata": {},
   "outputs": [
    {
     "data": {
      "text/plain": [
       "[('Simpson', 'Homer'),\n",
       " ('Simpson', 'Bart'),\n",
       " ('Simpson', 'Marge'),\n",
       " ('SouthPark', 'Cartman'),\n",
       " ('SouthPark', 'Kenny'),\n",
       " ('SouthPark', 'Kyle')]"
      ]
     },
     "execution_count": 65,
     "metadata": {},
     "output_type": "execute_result"
    }
   ],
   "source": [
    "birlesmisIndeks"
   ]
  },
  {
   "cell_type": "code",
   "execution_count": 66,
   "id": "c382657d-b386-421b-9f99-3284a8e68195",
   "metadata": {},
   "outputs": [],
   "source": [
    "birlesmisIndeks = pd.MultiIndex.from_tuples(birlesmisIndeks)"
   ]
  },
  {
   "cell_type": "code",
   "execution_count": 67,
   "id": "c25449c3-5ce5-4616-80b2-103429270524",
   "metadata": {},
   "outputs": [
    {
     "data": {
      "text/plain": [
       "MultiIndex([(  'Simpson',   'Homer'),\n",
       "            (  'Simpson',    'Bart'),\n",
       "            (  'Simpson',   'Marge'),\n",
       "            ('SouthPark', 'Cartman'),\n",
       "            ('SouthPark',   'Kenny'),\n",
       "            ('SouthPark',    'Kyle')],\n",
       "           )"
      ]
     },
     "execution_count": 67,
     "metadata": {},
     "output_type": "execute_result"
    }
   ],
   "source": [
    "birlesmisIndeks"
   ]
  },
  {
   "cell_type": "code",
   "execution_count": 71,
   "id": "c219eb59-e91f-49b0-94ed-9ce24eae8986",
   "metadata": {},
   "outputs": [],
   "source": [
    "benimCizgiFilmListem = [[40,\"a\"],[30,\"b\"],[10,\"c\"],[9,\"d\"],[30,\"e\"],[11,\"f\"]]"
   ]
  },
  {
   "cell_type": "code",
   "execution_count": 72,
   "id": "868e1887-62d4-41ef-a761-35f15d21c621",
   "metadata": {},
   "outputs": [],
   "source": [
    "cizgiFilmNumpyDizisi = np.array(benimCizgiFilmListem)"
   ]
  },
  {
   "cell_type": "code",
   "execution_count": 73,
   "id": "861a36a4-b536-4c70-bf26-f32b2dd78bc7",
   "metadata": {},
   "outputs": [],
   "source": [
    "cizgiFilmDataFrame = pd.DataFrame(cizgiFilmNumpyDizisi,index = birlesmisIndeks,columns = [\"Yas\",\"Meslek\"])"
   ]
  },
  {
   "cell_type": "code",
   "execution_count": 74,
   "id": "07847c62-c5e1-4662-8c69-81b9874dcc37",
   "metadata": {},
   "outputs": [
    {
     "data": {
      "text/html": [
       "<div>\n",
       "<style scoped>\n",
       "    .dataframe tbody tr th:only-of-type {\n",
       "        vertical-align: middle;\n",
       "    }\n",
       "\n",
       "    .dataframe tbody tr th {\n",
       "        vertical-align: top;\n",
       "    }\n",
       "\n",
       "    .dataframe thead th {\n",
       "        text-align: right;\n",
       "    }\n",
       "</style>\n",
       "<table border=\"1\" class=\"dataframe\">\n",
       "  <thead>\n",
       "    <tr style=\"text-align: right;\">\n",
       "      <th></th>\n",
       "      <th></th>\n",
       "      <th>Yas</th>\n",
       "      <th>Meslek</th>\n",
       "    </tr>\n",
       "  </thead>\n",
       "  <tbody>\n",
       "    <tr>\n",
       "      <th rowspan=\"3\" valign=\"top\">Simpson</th>\n",
       "      <th>Homer</th>\n",
       "      <td>40</td>\n",
       "      <td>a</td>\n",
       "    </tr>\n",
       "    <tr>\n",
       "      <th>Bart</th>\n",
       "      <td>30</td>\n",
       "      <td>b</td>\n",
       "    </tr>\n",
       "    <tr>\n",
       "      <th>Marge</th>\n",
       "      <td>10</td>\n",
       "      <td>c</td>\n",
       "    </tr>\n",
       "    <tr>\n",
       "      <th rowspan=\"3\" valign=\"top\">SouthPark</th>\n",
       "      <th>Cartman</th>\n",
       "      <td>9</td>\n",
       "      <td>d</td>\n",
       "    </tr>\n",
       "    <tr>\n",
       "      <th>Kenny</th>\n",
       "      <td>30</td>\n",
       "      <td>e</td>\n",
       "    </tr>\n",
       "    <tr>\n",
       "      <th>Kyle</th>\n",
       "      <td>11</td>\n",
       "      <td>f</td>\n",
       "    </tr>\n",
       "  </tbody>\n",
       "</table>\n",
       "</div>"
      ],
      "text/plain": [
       "                  Yas Meslek\n",
       "Simpson   Homer    40      a\n",
       "          Bart     30      b\n",
       "          Marge    10      c\n",
       "SouthPark Cartman   9      d\n",
       "          Kenny    30      e\n",
       "          Kyle     11      f"
      ]
     },
     "execution_count": 74,
     "metadata": {},
     "output_type": "execute_result"
    }
   ],
   "source": [
    "cizgiFilmDataFrame"
   ]
  },
  {
   "cell_type": "code",
   "execution_count": 75,
   "id": "a5cb0c36-22c1-4699-8972-e2fb98561ba6",
   "metadata": {},
   "outputs": [
    {
     "data": {
      "text/html": [
       "<div>\n",
       "<style scoped>\n",
       "    .dataframe tbody tr th:only-of-type {\n",
       "        vertical-align: middle;\n",
       "    }\n",
       "\n",
       "    .dataframe tbody tr th {\n",
       "        vertical-align: top;\n",
       "    }\n",
       "\n",
       "    .dataframe thead th {\n",
       "        text-align: right;\n",
       "    }\n",
       "</style>\n",
       "<table border=\"1\" class=\"dataframe\">\n",
       "  <thead>\n",
       "    <tr style=\"text-align: right;\">\n",
       "      <th></th>\n",
       "      <th>Yas</th>\n",
       "      <th>Meslek</th>\n",
       "    </tr>\n",
       "  </thead>\n",
       "  <tbody>\n",
       "    <tr>\n",
       "      <th>Homer</th>\n",
       "      <td>40</td>\n",
       "      <td>a</td>\n",
       "    </tr>\n",
       "    <tr>\n",
       "      <th>Bart</th>\n",
       "      <td>30</td>\n",
       "      <td>b</td>\n",
       "    </tr>\n",
       "    <tr>\n",
       "      <th>Marge</th>\n",
       "      <td>10</td>\n",
       "      <td>c</td>\n",
       "    </tr>\n",
       "  </tbody>\n",
       "</table>\n",
       "</div>"
      ],
      "text/plain": [
       "      Yas Meslek\n",
       "Homer  40      a\n",
       "Bart   30      b\n",
       "Marge  10      c"
      ]
     },
     "execution_count": 75,
     "metadata": {},
     "output_type": "execute_result"
    }
   ],
   "source": [
    "cizgiFilmDataFrame.loc[\"Simpson\"]"
   ]
  },
  {
   "cell_type": "code",
   "execution_count": 76,
   "id": "4e3d59a9-6719-4d34-89c9-8c304c5b299c",
   "metadata": {},
   "outputs": [
    {
     "data": {
      "text/html": [
       "<div>\n",
       "<style scoped>\n",
       "    .dataframe tbody tr th:only-of-type {\n",
       "        vertical-align: middle;\n",
       "    }\n",
       "\n",
       "    .dataframe tbody tr th {\n",
       "        vertical-align: top;\n",
       "    }\n",
       "\n",
       "    .dataframe thead th {\n",
       "        text-align: right;\n",
       "    }\n",
       "</style>\n",
       "<table border=\"1\" class=\"dataframe\">\n",
       "  <thead>\n",
       "    <tr style=\"text-align: right;\">\n",
       "      <th></th>\n",
       "      <th>Yas</th>\n",
       "      <th>Meslek</th>\n",
       "    </tr>\n",
       "  </thead>\n",
       "  <tbody>\n",
       "    <tr>\n",
       "      <th>Cartman</th>\n",
       "      <td>9</td>\n",
       "      <td>d</td>\n",
       "    </tr>\n",
       "    <tr>\n",
       "      <th>Kenny</th>\n",
       "      <td>30</td>\n",
       "      <td>e</td>\n",
       "    </tr>\n",
       "    <tr>\n",
       "      <th>Kyle</th>\n",
       "      <td>11</td>\n",
       "      <td>f</td>\n",
       "    </tr>\n",
       "  </tbody>\n",
       "</table>\n",
       "</div>"
      ],
      "text/plain": [
       "        Yas Meslek\n",
       "Cartman   9      d\n",
       "Kenny    30      e\n",
       "Kyle     11      f"
      ]
     },
     "execution_count": 76,
     "metadata": {},
     "output_type": "execute_result"
    }
   ],
   "source": [
    "cizgiFilmDataFrame.loc[\"SouthPark\"]"
   ]
  },
  {
   "cell_type": "code",
   "execution_count": 79,
   "id": "a697d99f-1200-46f5-8276-622a1067fe09",
   "metadata": {},
   "outputs": [
    {
     "data": {
      "text/plain": [
       "Yas       30\n",
       "Meslek     e\n",
       "Name: Kenny, dtype: object"
      ]
     },
     "execution_count": 79,
     "metadata": {},
     "output_type": "execute_result"
    }
   ],
   "source": [
    "cizgiFilmDataFrame.loc[\"SouthPark\"].loc[\"Kenny\"]"
   ]
  },
  {
   "cell_type": "code",
   "execution_count": 80,
   "id": "b6efae2a-afee-4e1c-b14c-d8736fa3fd8d",
   "metadata": {},
   "outputs": [
    {
     "data": {
      "text/html": [
       "<div>\n",
       "<style scoped>\n",
       "    .dataframe tbody tr th:only-of-type {\n",
       "        vertical-align: middle;\n",
       "    }\n",
       "\n",
       "    .dataframe tbody tr th {\n",
       "        vertical-align: top;\n",
       "    }\n",
       "\n",
       "    .dataframe thead th {\n",
       "        text-align: right;\n",
       "    }\n",
       "</style>\n",
       "<table border=\"1\" class=\"dataframe\">\n",
       "  <thead>\n",
       "    <tr style=\"text-align: right;\">\n",
       "      <th></th>\n",
       "      <th></th>\n",
       "      <th>Yas</th>\n",
       "      <th>Meslek</th>\n",
       "    </tr>\n",
       "  </thead>\n",
       "  <tbody>\n",
       "    <tr>\n",
       "      <th rowspan=\"3\" valign=\"top\">Simpson</th>\n",
       "      <th>Homer</th>\n",
       "      <td>40</td>\n",
       "      <td>a</td>\n",
       "    </tr>\n",
       "    <tr>\n",
       "      <th>Bart</th>\n",
       "      <td>30</td>\n",
       "      <td>b</td>\n",
       "    </tr>\n",
       "    <tr>\n",
       "      <th>Marge</th>\n",
       "      <td>10</td>\n",
       "      <td>c</td>\n",
       "    </tr>\n",
       "    <tr>\n",
       "      <th rowspan=\"3\" valign=\"top\">SouthPark</th>\n",
       "      <th>Cartman</th>\n",
       "      <td>9</td>\n",
       "      <td>d</td>\n",
       "    </tr>\n",
       "    <tr>\n",
       "      <th>Kenny</th>\n",
       "      <td>30</td>\n",
       "      <td>e</td>\n",
       "    </tr>\n",
       "    <tr>\n",
       "      <th>Kyle</th>\n",
       "      <td>11</td>\n",
       "      <td>f</td>\n",
       "    </tr>\n",
       "  </tbody>\n",
       "</table>\n",
       "</div>"
      ],
      "text/plain": [
       "                  Yas Meslek\n",
       "Simpson   Homer    40      a\n",
       "          Bart     30      b\n",
       "          Marge    10      c\n",
       "SouthPark Cartman   9      d\n",
       "          Kenny    30      e\n",
       "          Kyle     11      f"
      ]
     },
     "execution_count": 80,
     "metadata": {},
     "output_type": "execute_result"
    }
   ],
   "source": [
    "cizgiFilmDataFrame"
   ]
  },
  {
   "cell_type": "code",
   "execution_count": 81,
   "id": "3b25cd5e-314d-4a12-80eb-354cf65c3c0d",
   "metadata": {},
   "outputs": [],
   "source": [
    "cizgiFilmDataFrame.index.names = [\"Film Adı\",\"İsim\"]"
   ]
  },
  {
   "cell_type": "code",
   "execution_count": 82,
   "id": "acf8f601-dcf0-479f-b323-ec76e4a910d1",
   "metadata": {},
   "outputs": [
    {
     "data": {
      "text/html": [
       "<div>\n",
       "<style scoped>\n",
       "    .dataframe tbody tr th:only-of-type {\n",
       "        vertical-align: middle;\n",
       "    }\n",
       "\n",
       "    .dataframe tbody tr th {\n",
       "        vertical-align: top;\n",
       "    }\n",
       "\n",
       "    .dataframe thead th {\n",
       "        text-align: right;\n",
       "    }\n",
       "</style>\n",
       "<table border=\"1\" class=\"dataframe\">\n",
       "  <thead>\n",
       "    <tr style=\"text-align: right;\">\n",
       "      <th></th>\n",
       "      <th></th>\n",
       "      <th>Yas</th>\n",
       "      <th>Meslek</th>\n",
       "    </tr>\n",
       "    <tr>\n",
       "      <th>Film Adı</th>\n",
       "      <th>İsim</th>\n",
       "      <th></th>\n",
       "      <th></th>\n",
       "    </tr>\n",
       "  </thead>\n",
       "  <tbody>\n",
       "    <tr>\n",
       "      <th rowspan=\"3\" valign=\"top\">Simpson</th>\n",
       "      <th>Homer</th>\n",
       "      <td>40</td>\n",
       "      <td>a</td>\n",
       "    </tr>\n",
       "    <tr>\n",
       "      <th>Bart</th>\n",
       "      <td>30</td>\n",
       "      <td>b</td>\n",
       "    </tr>\n",
       "    <tr>\n",
       "      <th>Marge</th>\n",
       "      <td>10</td>\n",
       "      <td>c</td>\n",
       "    </tr>\n",
       "    <tr>\n",
       "      <th rowspan=\"3\" valign=\"top\">SouthPark</th>\n",
       "      <th>Cartman</th>\n",
       "      <td>9</td>\n",
       "      <td>d</td>\n",
       "    </tr>\n",
       "    <tr>\n",
       "      <th>Kenny</th>\n",
       "      <td>30</td>\n",
       "      <td>e</td>\n",
       "    </tr>\n",
       "    <tr>\n",
       "      <th>Kyle</th>\n",
       "      <td>11</td>\n",
       "      <td>f</td>\n",
       "    </tr>\n",
       "  </tbody>\n",
       "</table>\n",
       "</div>"
      ],
      "text/plain": [
       "                  Yas Meslek\n",
       "Film Adı  İsim              \n",
       "Simpson   Homer    40      a\n",
       "          Bart     30      b\n",
       "          Marge    10      c\n",
       "SouthPark Cartman   9      d\n",
       "          Kenny    30      e\n",
       "          Kyle     11      f"
      ]
     },
     "execution_count": 82,
     "metadata": {},
     "output_type": "execute_result"
    }
   ],
   "source": [
    "cizgiFilmDataFrame"
   ]
  },
  {
   "cell_type": "code",
   "execution_count": null,
   "id": "3f5d1a06-d12b-43c6-9a43-332808f01d3f",
   "metadata": {},
   "outputs": [],
   "source": []
  }
 ],
 "metadata": {
  "kernelspec": {
   "display_name": "Python 3 (ipykernel)",
   "language": "python",
   "name": "python3"
  },
  "language_info": {
   "codemirror_mode": {
    "name": "ipython",
    "version": 3
   },
   "file_extension": ".py",
   "mimetype": "text/x-python",
   "name": "python",
   "nbconvert_exporter": "python",
   "pygments_lexer": "ipython3",
   "version": "3.12.7"
  }
 },
 "nbformat": 4,
 "nbformat_minor": 5
}
